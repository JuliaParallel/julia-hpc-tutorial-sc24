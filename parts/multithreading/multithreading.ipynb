{
 "cells": [
  {
   "cell_type": "markdown",
   "id": "e899361a-1216-4170-911e-5f0df8da8b09",
   "metadata": {},
   "source": [
    "# Multithreading in Julia\n",
    "\n",
    "## Spawning parallel tasks"
   ]
  },
  {
   "cell_type": "code",
   "execution_count": 1,
   "id": "8d086025-6330-49c9-8c38-b7a9d86fc0ec",
   "metadata": {
    "collapsed": true,
    "jupyter": {
     "outputs_hidden": true
    },
    "tags": []
   },
   "outputs": [
    {
     "name": "stdout",
     "output_type": "stream",
     "text": [
      "nthreads() = 4\n"
     ]
    }
   ],
   "source": [
    "using Base.Threads\n",
    "\n",
    "@show nthreads();"
   ]
  },
  {
   "cell_type": "code",
   "execution_count": 2,
   "id": "d6896cf1-52dd-4c09-8ff0-20041ef49dd6",
   "metadata": {
    "collapsed": true,
    "jupyter": {
     "outputs_hidden": true
    }
   },
   "outputs": [
    {
     "name": "stdout",
     "output_type": "stream",
     "text": [
      "  0.008318 seconds (4.21 k allocations: 202.578 KiB, 99.24% compilation time)\n",
      "  1.974720 seconds (219 allocations: 12.625 KiB, 0.07% compilation time)\n"
     ]
    },
    {
     "data": {
      "text/plain": [
       "6"
      ]
     },
     "execution_count": 2,
     "metadata": {},
     "output_type": "execute_result"
    }
   ],
   "source": [
    "@time t = @spawn begin # `@spawn` returns right away\n",
    "    sleep(2)\n",
    "    3+3\n",
    "end\n",
    "\n",
    "@time fetch(t) # `fetch` waits for the task to finish"
   ]
  },
  {
   "cell_type": "markdown",
   "id": "29a4ab8b-7519-4736-8b03-47a8a020740c",
   "metadata": {},
   "source": [
    "## Example: multi-threaded `map`"
   ]
  },
  {
   "cell_type": "code",
   "execution_count": 3,
   "id": "2b6c8785-32ce-41a0-9048-ab21ce27ed41",
   "metadata": {
    "collapsed": true,
    "jupyter": {
     "outputs_hidden": true
    }
   },
   "outputs": [
    {
     "name": "stdout",
     "output_type": "stream",
     "text": [
      "  28.879 ms (106 allocations: 3.37 MiB)\n",
      "  7.800 ms (155 allocations: 3.38 MiB)\n"
     ]
    }
   ],
   "source": [
    "using LinearAlgebra, BenchmarkTools\n",
    "\n",
    "BLAS.set_num_threads(1) # Fix number of BLAS threads\n",
    "\n",
    "function tmap(fn, itr)\n",
    "    # for each i ∈ itr, spawn a task to compute fn(i)\n",
    "    tasks = map(i -> @spawn(fn(i)), itr)\n",
    "    # fetch and return all the results\n",
    "    return fetch.(tasks)\n",
    "end\n",
    "\n",
    "M = [rand(200,200) for i in 1:8];\n",
    "\n",
    "tmap(svdvals, M);\n",
    "\n",
    "@btime  map(svdvals, $M) samples=10 evals=3;\n",
    "@btime tmap(svdvals, $M) samples=10 evals=3;"
   ]
  },
  {
   "cell_type": "markdown",
   "id": "88358e2d-0b6c-4d18-8ebf-fa3406f86043",
   "metadata": {},
   "source": [
    "***Exercise***: do you see any difference if you increase the number of BLAS threads?"
   ]
  },
  {
   "cell_type": "markdown",
   "id": "36627189-000e-45ee-84d9-b49665e2b333",
   "metadata": {},
   "source": [
    "## Example: multi-threaded `for` loop"
   ]
  },
  {
   "cell_type": "code",
   "execution_count": 4,
   "id": "2bcfbc38-3f2c-4f2e-b354-8d66bec8b31e",
   "metadata": {
    "collapsed": true,
    "jupyter": {
     "outputs_hidden": true
    }
   },
   "outputs": [
    {
     "name": "stdout",
     "output_type": "stream",
     "text": [
      "  86.676 ms (0 allocations: 0 bytes)\n",
      "  23.455 ms (27 allocations: 2.38 KiB)\n"
     ]
    }
   ],
   "source": [
    "using ChunkSplitters, Base.Threads, BenchmarkTools\n",
    "\n",
    "function sum_threads(fn, data; nchunks=nthreads())\n",
    "    psums = zeros(eltype(data), nchunks)\n",
    "    @threads :dynamic for (c, elements) in enumerate(chunks(data; n=nchunks))\n",
    "        psums[c] = sum(fn, elements)\n",
    "    end\n",
    "    return sum(psums)\n",
    "end\n",
    "\n",
    "v = randn(10_000_000);\n",
    "\n",
    "@btime sum(sin, $v);\n",
    "\n",
    "@btime sum_threads(sin, $v);"
   ]
  },
  {
   "cell_type": "markdown",
   "id": "50040792-a994-43f4-8a18-12a48c6192d1",
   "metadata": {},
   "source": [
    "***Exercise***: do you see differences if you change the scheduler type?  Remember you can choose between `:dynamic` (currently the default if omitted), `:greedy`, and `:static`."
   ]
  },
  {
   "cell_type": "code",
   "execution_count": 5,
   "id": "57787983-bf74-4a89-be6f-dc8ce5e9ad23",
   "metadata": {
    "collapsed": true,
    "jupyter": {
     "outputs_hidden": true
    }
   },
   "outputs": [
    {
     "name": "stdout",
     "output_type": "stream",
     "text": [
      "  23.552 ms (48 allocations: 3.00 KiB)\n"
     ]
    }
   ],
   "source": [
    "function sum_map_spawn(fn, data; nchunks=nthreads())\n",
    "    ts = map(chunks(data, n=nchunks)) do elements\n",
    "        @spawn sum(fn, elements)\n",
    "    end\n",
    "    return sum(fetch.(ts))\n",
    "end\n",
    "\n",
    "@btime sum_map_spawn(sin, $v);"
   ]
  },
  {
   "cell_type": "code",
   "execution_count": 6,
   "id": "19072e0f-e688-426b-b4d4-90e030856001",
   "metadata": {
    "collapsed": true,
    "jupyter": {
     "outputs_hidden": true
    }
   },
   "outputs": [
    {
     "name": "stdout",
     "output_type": "stream",
     "text": [
      "  23.419 ms (32 allocations: 2.59 KiB)\n"
     ]
    }
   ],
   "source": [
    "using OhMyThreads: @tasks\n",
    "\n",
    "function sum_tasks(fn, data; nchunks=nthreads())\n",
    "    psums = zeros(eltype(data), nchunks)\n",
    "    @tasks for (c, elements) in enumerate(chunks(data; n=nchunks))\n",
    "        psums[c] = sum(fn, elements)\n",
    "    end\n",
    "    return sum(psums)\n",
    "end\n",
    "\n",
    "@btime sum_tasks(sin, $v);"
   ]
  },
  {
   "cell_type": "markdown",
   "id": "4e385c3f-0650-48a5-bd48-b55610a752d7",
   "metadata": {},
   "source": [
    "## Multi-threading: is it always worth it?"
   ]
  },
  {
   "cell_type": "code",
   "execution_count": 7,
   "id": "63704d16-69b4-4f8f-9436-0fcfc4a0cf71",
   "metadata": {
    "collapsed": true,
    "jupyter": {
     "outputs_hidden": true
    }
   },
   "outputs": [
    {
     "name": "stdout",
     "output_type": "stream",
     "text": [
      "  17.786 ns (0 allocations: 0 bytes)\n",
      "  4.389 μs (22 allocations: 2.09 KiB)\n"
     ]
    }
   ],
   "source": [
    "using BenchmarkTools\n",
    "\n",
    "function overhead!(v)\n",
    "    for idx in eachindex(v)\n",
    "        v[idx] = idx\n",
    "    end\n",
    "end\n",
    "    \n",
    "function overhead_threads!(v)\n",
    "    @threads for idx in eachindex(v)\n",
    "        v[idx] = idx\n",
    "    end\n",
    "end\n",
    "\n",
    "N = 100\n",
    "\n",
    "@btime overhead!(v) setup=(v = Vector{Int}(undef, N))\n",
    "@btime overhead_threads!(v) setup=(v = Vector{Int}(undef, N))"
   ]
  },
  {
   "cell_type": "markdown",
   "id": "dc91a613-b722-48d7-95c3-6123629bfb13",
   "metadata": {},
   "source": [
    "***Exercise***: do you see any improvement in the parallel efficiency if you change the size of the problem (here: `N`)?"
   ]
  },
  {
   "cell_type": "markdown",
   "id": "9d824e83-278b-4e6a-b1f8-4f0ce5e93940",
   "metadata": {},
   "source": [
    "## Unbalanced workload: computing hexadecimal $\\pi$\n",
    "\n",
    "_This section is inspired by the blogpost [Computing the hexadecimal value of pi](https://giordano.github.io/blog/2017-11-21-hexadecimal-pi/) by Mosè Giordano._\n",
    "\n",
    "The [Bailey–Borwein–Plouffe formula](https://en.wikipedia.org/wiki/Bailey%E2%80%93Borwein%E2%80%93Plouffe_formula) is one of the [several algorithms to compute $\\pi$](https://en.wikipedia.org/wiki/Approximations_of_%CF%80):\n",
    "\n",
    "$$\n",
    "\\pi = \\sum_{k = 0}^{\\infty}\\left[ \\frac{1}{16^k} \\left( \\frac{4}{8k + 1} -\n",
    "\\frac{2}{8k + 4} - \\frac{1}{8k + 5} - \\frac{1}{8k + 6} \\right) \\right]\n",
    "$$\n",
    "\n",
    "What makes this formula stand out among other approximations of $\\pi$ is that it allows one to directly extract the $n$-th fractional digit of the hexadecimal value of $\\pi$ without computing the preceding ones.\n",
    "\n",
    "The Wikipedia article about the Bailey–Borwein–Plouffe formula explains that the $n + 1$-th fractional digit $d_n$ is given by\n",
    "\n",
    "$$\n",
    "d_{n} = 16 \\left[ 4 \\Sigma(n, 1) - 2 \\Sigma(n, 4) - \\Sigma(n, 5) - \\Sigma(n,\n",
    "6) \\right]\n",
    "$$\n",
    "\n",
    "where\n",
    "\n",
    "$$\n",
    "\\Sigma(n, j) = \\sum_{k = 0}^{n} \\frac{16^{n-k} \\bmod (8k+j)}{8k+j} + \\sum_{k\n",
    "= n+1}^{\\infty} \\frac{16^{n-k}}{8k+j}\n",
    "$$\n",
    "\n",
    "Only the fractional part of expression in square brackets on the right side of $d_n$ is relevant, thus, in order to avoid rounding errors, when we compute each term of the finite sum above we can take only the fractional part. This allows us to always use ordinary double precision floating-point arithmetic, without resorting to arbitrary-precision numbers. In addition note that the terms of the infinite sum get quickly very small, so we can stop the summation when they become negligible.\n",
    "\n",
    "### Serial implementation"
   ]
  },
  {
   "cell_type": "code",
   "execution_count": 8,
   "id": "fa121014-046d-4fdc-9be9-d8bed49285de",
   "metadata": {
    "collapsed": true,
    "jupyter": {
     "outputs_hidden": true
    }
   },
   "outputs": [
    {
     "data": {
      "text/plain": [
       "pi_string (generic function with 1 method)"
      ]
     },
     "execution_count": 8,
     "metadata": {},
     "output_type": "execute_result"
    }
   ],
   "source": [
    "# Return the fractional part of x, modulo 1, always positive\n",
    "fpart(x) = mod(x, one(x))\n",
    "\n",
    "function Σ(n, j)\n",
    "    # Compute the finite sum\n",
    "    s = 0.0\n",
    "    denom = j\n",
    "    for k in 0:n\n",
    "        s = fpart(s + powermod(16, n - k, denom) / denom)\n",
    "        denom += 8\n",
    "    end\n",
    "    # Compute the infinite sum\n",
    "    num = 1 / 16\n",
    "    while (frac = num / denom) > eps(s)\n",
    "        s     += frac\n",
    "        num   /= 16\n",
    "        denom += 8\n",
    "    end\n",
    "    return fpart(s)\n",
    "end\n",
    "\n",
    "pi_digit(n) =\n",
    "    floor(Int, 16 * fpart(4Σ(n-1, 1) - 2Σ(n-1, 4) - Σ(n-1, 5) - Σ(n-1, 6)))\n",
    "\n",
    "pi_string(n) = \"0x3.\" * join(string.(pi_digit.(1:n), base = 16)) * \"p0\""
   ]
  },
  {
   "cell_type": "markdown",
   "id": "62292be8-4c5b-4112-a207-e9148874d578",
   "metadata": {},
   "source": [
    "Let's make sure this works:"
   ]
  },
  {
   "cell_type": "code",
   "execution_count": 9,
   "id": "441d3e6f-0b07-430e-8f99-460725b47c21",
   "metadata": {
    "collapsed": true,
    "jupyter": {
     "outputs_hidden": true
    }
   },
   "outputs": [
    {
     "data": {
      "text/plain": [
       "\"0x3.243f6a8885a30p0\""
      ]
     },
     "execution_count": 9,
     "metadata": {},
     "output_type": "execute_result"
    }
   ],
   "source": [
    "pi_string(13)"
   ]
  },
  {
   "cell_type": "code",
   "execution_count": 10,
   "id": "8a9a23ba-70d4-474b-9cd5-bdb84d4e3d93",
   "metadata": {
    "collapsed": true,
    "jupyter": {
     "outputs_hidden": true
    }
   },
   "outputs": [
    {
     "data": {
      "text/plain": [
       "3.141592653589793"
      ]
     },
     "execution_count": 10,
     "metadata": {},
     "output_type": "execute_result"
    }
   ],
   "source": [
    "# Parse the string as a double-precision floating point number...\n",
    "parse(Float64, pi_string(13))"
   ]
  },
  {
   "cell_type": "code",
   "execution_count": 11,
   "id": "f92b1714-3bc3-41c9-a26c-529cea8f6ccc",
   "metadata": {
    "collapsed": true,
    "jupyter": {
     "outputs_hidden": true
    }
   },
   "outputs": [
    {
     "data": {
      "text/plain": [
       "3.141592653589793"
      ]
     },
     "execution_count": 11,
     "metadata": {},
     "output_type": "execute_result"
    }
   ],
   "source": [
    "# ...or get the double-precision value by summing all the hexadecimal digits\n",
    "3 + sum(pi_digit(n)/16^n for n in 1:13)"
   ]
  },
  {
   "cell_type": "code",
   "execution_count": 12,
   "id": "0ea6ef16-6f47-47e9-867d-b1153fab396c",
   "metadata": {
    "collapsed": true,
    "jupyter": {
     "outputs_hidden": true
    }
   },
   "outputs": [
    {
     "data": {
      "text/plain": [
       "true"
      ]
     },
     "execution_count": 12,
     "metadata": {},
     "output_type": "execute_result"
    }
   ],
   "source": [
    "Float64(π) == parse(Float64, pi_string(13))"
   ]
  },
  {
   "cell_type": "code",
   "execution_count": 13,
   "id": "8bb7259f-69ad-40d3-882b-3618dbfa2cf5",
   "metadata": {
    "collapsed": true,
    "jupyter": {
     "outputs_hidden": true
    }
   },
   "outputs": [
    {
     "data": {
      "text/plain": [
       "256"
      ]
     },
     "execution_count": 13,
     "metadata": {},
     "output_type": "execute_result"
    }
   ],
   "source": [
    "precision(BigFloat)"
   ]
  },
  {
   "cell_type": "code",
   "execution_count": 14,
   "id": "d1f35b58-f6a3-4102-946c-bedab8feb954",
   "metadata": {
    "collapsed": true,
    "jupyter": {
     "outputs_hidden": true
    }
   },
   "outputs": [
    {
     "data": {
      "text/plain": [
       "\"0x3.243f6a8885a308d313198a2e03707344a4093822299f31d0082efa98ec4e6c89p0\""
      ]
     },
     "execution_count": 14,
     "metadata": {},
     "output_type": "execute_result"
    }
   ],
   "source": [
    "pi_string(64)"
   ]
  },
  {
   "cell_type": "code",
   "execution_count": 15,
   "id": "1586c329-7ce4-4b3d-b473-fc56e08a4a54",
   "metadata": {
    "collapsed": true,
    "jupyter": {
     "outputs_hidden": true
    }
   },
   "outputs": [
    {
     "data": {
      "text/plain": [
       "3.141592653589793238462643383279502884197169399375105820974944592307816406286198"
      ]
     },
     "execution_count": 15,
     "metadata": {},
     "output_type": "execute_result"
    }
   ],
   "source": [
    "3 + sum(pi_digit(n)/big(16)^n for n in 1:64)"
   ]
  },
  {
   "cell_type": "code",
   "execution_count": 16,
   "id": "e2a18bca-2597-4e7e-98b6-87ac2fcfa223",
   "metadata": {
    "collapsed": true,
    "jupyter": {
     "outputs_hidden": true
    }
   },
   "outputs": [
    {
     "data": {
      "text/plain": [
       "true"
      ]
     },
     "execution_count": 16,
     "metadata": {},
     "output_type": "execute_result"
    }
   ],
   "source": [
    "BigFloat(π) == parse(BigFloat, pi_string(64))"
   ]
  },
  {
   "cell_type": "code",
   "execution_count": 17,
   "id": "93fbbc5e-face-4582-a260-e619ed87835c",
   "metadata": {
    "collapsed": true,
    "jupyter": {
     "outputs_hidden": true
    }
   },
   "outputs": [
    {
     "data": {
      "text/plain": [
       "true"
      ]
     },
     "execution_count": 17,
     "metadata": {},
     "output_type": "execute_result"
    }
   ],
   "source": [
    "setprecision(BigFloat, 4000) do\n",
    "    BigFloat(π) == parse(BigFloat, pi_string(1000))\n",
    "end"
   ]
  },
  {
   "cell_type": "code",
   "execution_count": 18,
   "id": "e689e73d-531d-429c-b2f2-9b36a01833b5",
   "metadata": {
    "collapsed": true,
    "jupyter": {
     "outputs_hidden": true
    }
   },
   "outputs": [
    {
     "data": {
      "text/plain": [
       "BenchmarkTools.Trial: 13 samples with 1 evaluation.\n",
       " Range \u001b[90m(\u001b[39m\u001b[36m\u001b[1mmin\u001b[22m\u001b[39m … \u001b[35mmax\u001b[39m\u001b[90m):  \u001b[39m\u001b[36m\u001b[1m389.169 ms\u001b[22m\u001b[39m … \u001b[35m398.948 ms\u001b[39m  \u001b[90m┊\u001b[39m GC \u001b[90m(\u001b[39mmin … max\u001b[90m): \u001b[39m0.00% … 0.00%\n",
       " Time  \u001b[90m(\u001b[39m\u001b[34m\u001b[1mmedian\u001b[22m\u001b[39m\u001b[90m):     \u001b[39m\u001b[34m\u001b[1m395.630 ms               \u001b[22m\u001b[39m\u001b[90m┊\u001b[39m GC \u001b[90m(\u001b[39mmedian\u001b[90m):    \u001b[39m0.00%\n",
       " Time  \u001b[90m(\u001b[39m\u001b[32m\u001b[1mmean\u001b[22m\u001b[39m ± \u001b[32mσ\u001b[39m\u001b[90m):   \u001b[39m\u001b[32m\u001b[1m395.020 ms\u001b[22m\u001b[39m ± \u001b[32m  2.627 ms\u001b[39m  \u001b[90m┊\u001b[39m GC \u001b[90m(\u001b[39mmean ± σ\u001b[90m):  \u001b[39m0.00% ± 0.00%\n",
       "\n",
       "  \u001b[39m \u001b[39m \u001b[39m \u001b[39m \u001b[39m \u001b[39m \u001b[39m \u001b[39m \u001b[39m \u001b[39m \u001b[39m \u001b[39m \u001b[39m \u001b[39m \u001b[39m \u001b[39m \u001b[39m \u001b[39m \u001b[39m \u001b[39m \u001b[39m \u001b[39m \u001b[39m \u001b[39m \u001b[39m \u001b[39m \u001b[39m \u001b[39m \u001b[39m \u001b[39m \u001b[39m \u001b[39m \u001b[39m \u001b[39m \u001b[39m \u001b[39m \u001b[32m \u001b[39m\u001b[39m \u001b[39m \u001b[39m \u001b[34m█\u001b[39m\u001b[39m \u001b[39m \u001b[39m \u001b[39m \u001b[39m \u001b[39m \u001b[39m \u001b[39m \u001b[39m \u001b[39m \u001b[39m \u001b[39m \u001b[39m \u001b[39m \u001b[39m \u001b[39m \u001b[39m \u001b[39m \u001b[39m \u001b[39m \u001b[39m \u001b[39m \n",
       "  \u001b[39m▆\u001b[39m▁\u001b[39m▁\u001b[39m▁\u001b[39m▁\u001b[39m▆\u001b[39m▁\u001b[39m▁\u001b[39m▁\u001b[39m▁\u001b[39m▁\u001b[39m▁\u001b[39m▁\u001b[39m▁\u001b[39m▁\u001b[39m▁\u001b[39m▁\u001b[39m▁\u001b[39m▁\u001b[39m▁\u001b[39m▁\u001b[39m▁\u001b[39m▁\u001b[39m▁\u001b[39m▁\u001b[39m▁\u001b[39m▁\u001b[39m▁\u001b[39m▁\u001b[39m▁\u001b[39m▁\u001b[39m▁\u001b[39m▁\u001b[39m▆\u001b[39m▁\u001b[39m▁\u001b[32m▁\u001b[39m\u001b[39m▆\u001b[39m▁\u001b[39m▆\u001b[34m█\u001b[39m\u001b[39m▁\u001b[39m▁\u001b[39m▆\u001b[39m▆\u001b[39m▁\u001b[39m▁\u001b[39m▁\u001b[39m▆\u001b[39m▁\u001b[39m▁\u001b[39m▁\u001b[39m▁\u001b[39m▁\u001b[39m▁\u001b[39m▁\u001b[39m▁\u001b[39m▁\u001b[39m▁\u001b[39m▁\u001b[39m▆\u001b[39m \u001b[39m▁\n",
       "  389 ms\u001b[90m           Histogram: frequency by time\u001b[39m          399 ms \u001b[0m\u001b[1m<\u001b[22m\n",
       "\n",
       " Memory estimate\u001b[90m: \u001b[39m\u001b[33m66.89 KiB\u001b[39m, allocs estimate\u001b[90m: \u001b[39m\u001b[33m2015\u001b[39m."
      ]
     },
     "execution_count": 18,
     "metadata": {},
     "output_type": "execute_result"
    }
   ],
   "source": [
    "using BenchmarkTools\n",
    "\n",
    "b = @benchmark pi_string(1000)\n",
    "\n",
    "pi_serial_t = minimum(b.times)\n",
    "\n",
    "b"
   ]
  },
  {
   "cell_type": "markdown",
   "id": "c6e91305-4c96-4c77-b3e2-e3e272475b33",
   "metadata": {},
   "source": [
    "### Multi-threaded implementation\n",
    "\n",
    "Since the Bailey–Borwtimesn–Plouffe formula extracts the $n$-th digit of $\\pi$ without computing the other ones, we can write a multi-threaded version of `pi_string`, taking advantage of native support for [multi-threading](https://docs.julialang.org/en/v1/manual/multi-threading/) in Julia. However note that the computational cost of `pi_digit` is $O(nlog(n))$, so the larger the value of $n$, the longer the function will take, which makes this workload very unbalanced. ***Question***: what do you expect to be the worst performing scheduler?\n",
    "\n",
    "#### For-loop: static scheduler"
   ]
  },
  {
   "cell_type": "code",
   "execution_count": 19,
   "id": "4e9b2ccb-3965-4dc2-95cb-3030ef49b314",
   "metadata": {
    "collapsed": true,
    "jupyter": {
     "outputs_hidden": true
    }
   },
   "outputs": [
    {
     "data": {
      "text/plain": [
       "true"
      ]
     },
     "execution_count": 19,
     "metadata": {},
     "output_type": "execute_result"
    }
   ],
   "source": [
    "function pi_string_threads_static(N)\n",
    "    digits = Vector{Int}(undef, N)\n",
    "    @threads :static for n in eachindex(digits)\n",
    "        digits[n] = pi_digit(n)\n",
    "    end\n",
    "    return \"0x3.\" * join(string.(digits, base = 16)) * \"p0\"\n",
    "end\n",
    "\n",
    "pi_string_threads_static(1000) == pi_string(1000)"
   ]
  },
  {
   "cell_type": "code",
   "execution_count": 20,
   "id": "4b7feec4-140d-4047-b92f-43e7452097d3",
   "metadata": {
    "collapsed": true,
    "jupyter": {
     "outputs_hidden": true
    }
   },
   "outputs": [
    {
     "data": {
      "text/plain": [
       "BenchmarkTools.Trial: 27 samples with 1 evaluation.\n",
       " Range \u001b[90m(\u001b[39m\u001b[36m\u001b[1mmin\u001b[22m\u001b[39m … \u001b[35mmax\u001b[39m\u001b[90m):  \u001b[39m\u001b[36m\u001b[1m188.677 ms\u001b[22m\u001b[39m … \u001b[35m196.517 ms\u001b[39m  \u001b[90m┊\u001b[39m GC \u001b[90m(\u001b[39mmin … max\u001b[90m): \u001b[39m0.00% … 0.00%\n",
       " Time  \u001b[90m(\u001b[39m\u001b[34m\u001b[1mmedian\u001b[22m\u001b[39m\u001b[90m):     \u001b[39m\u001b[34m\u001b[1m190.008 ms               \u001b[22m\u001b[39m\u001b[90m┊\u001b[39m GC \u001b[90m(\u001b[39mmedian\u001b[90m):    \u001b[39m0.00%\n",
       " Time  \u001b[90m(\u001b[39m\u001b[32m\u001b[1mmean\u001b[22m\u001b[39m ± \u001b[32mσ\u001b[39m\u001b[90m):   \u001b[39m\u001b[32m\u001b[1m190.615 ms\u001b[22m\u001b[39m ± \u001b[32m  2.066 ms\u001b[39m  \u001b[90m┊\u001b[39m GC \u001b[90m(\u001b[39mmean ± σ\u001b[90m):  \u001b[39m0.00% ± 0.00%\n",
       "\n",
       "  \u001b[39m█\u001b[39m \u001b[39m▃\u001b[39m \u001b[39m \u001b[39m█\u001b[39m \u001b[39m \u001b[39m \u001b[39m \u001b[34m▃\u001b[39m\u001b[39m▃\u001b[39m \u001b[39m \u001b[39m \u001b[32m \u001b[39m\u001b[39m \u001b[39m \u001b[39m \u001b[39m \u001b[39m▃\u001b[39m \u001b[39m \u001b[39m \u001b[39m \u001b[39m \u001b[39m \u001b[39m \u001b[39m \u001b[39m \u001b[39m \u001b[39m \u001b[39m \u001b[39m \u001b[39m \u001b[39m \u001b[39m \u001b[39m \u001b[39m \u001b[39m \u001b[39m \u001b[39m \u001b[39m \u001b[39m \u001b[39m \u001b[39m \u001b[39m \u001b[39m \u001b[39m \u001b[39m \u001b[39m \u001b[39m \u001b[39m \u001b[39m \u001b[39m \u001b[39m \u001b[39m \u001b[39m \u001b[39m \u001b[39m \u001b[39m \u001b[39m \u001b[39m \n",
       "  \u001b[39m█\u001b[39m▇\u001b[39m█\u001b[39m▁\u001b[39m▇\u001b[39m█\u001b[39m▁\u001b[39m▇\u001b[39m▇\u001b[39m▇\u001b[34m█\u001b[39m\u001b[39m█\u001b[39m▇\u001b[39m▁\u001b[39m▁\u001b[32m▁\u001b[39m\u001b[39m▇\u001b[39m▁\u001b[39m▁\u001b[39m▁\u001b[39m█\u001b[39m▁\u001b[39m▁\u001b[39m▁\u001b[39m▇\u001b[39m▁\u001b[39m▁\u001b[39m▁\u001b[39m▁\u001b[39m▁\u001b[39m▇\u001b[39m▇\u001b[39m▁\u001b[39m▇\u001b[39m▁\u001b[39m▁\u001b[39m▁\u001b[39m▁\u001b[39m▁\u001b[39m▁\u001b[39m▁\u001b[39m▁\u001b[39m▁\u001b[39m▁\u001b[39m▁\u001b[39m▁\u001b[39m▁\u001b[39m▁\u001b[39m▁\u001b[39m▁\u001b[39m▁\u001b[39m▁\u001b[39m▁\u001b[39m▁\u001b[39m▁\u001b[39m▁\u001b[39m▁\u001b[39m▁\u001b[39m▇\u001b[39m▁\u001b[39m▇\u001b[39m \u001b[39m▁\n",
       "  189 ms\u001b[90m           Histogram: frequency by time\u001b[39m          197 ms \u001b[0m\u001b[1m<\u001b[22m\n",
       "\n",
       " Memory estimate\u001b[90m: \u001b[39m\u001b[33m76.95 KiB\u001b[39m, allocs estimate\u001b[90m: \u001b[39m\u001b[33m2042\u001b[39m."
      ]
     },
     "execution_count": 20,
     "metadata": {},
     "output_type": "execute_result"
    }
   ],
   "source": [
    "b = @benchmark pi_string_threads_static(1000)\n",
    "\n",
    "pi_threads_static_t = minimum(b.times)\n",
    "\n",
    "b"
   ]
  },
  {
   "cell_type": "code",
   "execution_count": 21,
   "id": "929ec46b-8bc8-4bc6-849e-3e073e12df27",
   "metadata": {
    "collapsed": true,
    "jupyter": {
     "outputs_hidden": true
    }
   },
   "outputs": [
    {
     "data": {
      "text/plain": [
       "51.565658230361144"
      ]
     },
     "execution_count": 21,
     "metadata": {},
     "output_type": "execute_result"
    }
   ],
   "source": [
    "pi_serial_t / pi_threads_static_t / nthreads() * 100"
   ]
  },
  {
   "cell_type": "markdown",
   "id": "7892a693-4aa8-4ab0-8582-985bdf20cc23",
   "metadata": {},
   "source": [
    "#### For-loop: dynamic scheduler"
   ]
  },
  {
   "cell_type": "code",
   "execution_count": 22,
   "id": "3e6c85a7-89fa-4afe-96f7-3c1dc5c99193",
   "metadata": {
    "collapsed": true,
    "jupyter": {
     "outputs_hidden": true
    }
   },
   "outputs": [
    {
     "data": {
      "text/plain": [
       "true"
      ]
     },
     "execution_count": 22,
     "metadata": {},
     "output_type": "execute_result"
    }
   ],
   "source": [
    "function pi_string_threads_dynamic(N)\n",
    "    digits = Vector{Int}(undef, N)\n",
    "    @threads :dynamic for n in eachindex(digits)\n",
    "        digits[n] = pi_digit(n)\n",
    "    end\n",
    "    return \"0x3.\" * join(string.(digits, base = 16)) * \"p0\"\n",
    "end\n",
    "\n",
    "pi_string_threads_dynamic(1000) == pi_string(1000)"
   ]
  },
  {
   "cell_type": "code",
   "execution_count": 23,
   "id": "0f0d9041-2fee-4b26-b858-1ca9113ad7ff",
   "metadata": {
    "collapsed": true,
    "jupyter": {
     "outputs_hidden": true
    }
   },
   "outputs": [
    {
     "data": {
      "text/plain": [
       "BenchmarkTools.Trial: 26 samples with 1 evaluation.\n",
       " Range \u001b[90m(\u001b[39m\u001b[36m\u001b[1mmin\u001b[22m\u001b[39m … \u001b[35mmax\u001b[39m\u001b[90m):  \u001b[39m\u001b[36m\u001b[1m188.327 ms\u001b[22m\u001b[39m … \u001b[35m233.806 ms\u001b[39m  \u001b[90m┊\u001b[39m GC \u001b[90m(\u001b[39mmin … max\u001b[90m): \u001b[39m0.00% … 0.00%\n",
       " Time  \u001b[90m(\u001b[39m\u001b[34m\u001b[1mmedian\u001b[22m\u001b[39m\u001b[90m):     \u001b[39m\u001b[34m\u001b[1m190.173 ms               \u001b[22m\u001b[39m\u001b[90m┊\u001b[39m GC \u001b[90m(\u001b[39mmedian\u001b[90m):    \u001b[39m0.00%\n",
       " Time  \u001b[90m(\u001b[39m\u001b[32m\u001b[1mmean\u001b[22m\u001b[39m ± \u001b[32mσ\u001b[39m\u001b[90m):   \u001b[39m\u001b[32m\u001b[1m192.505 ms\u001b[22m\u001b[39m ± \u001b[32m  8.766 ms\u001b[39m  \u001b[90m┊\u001b[39m GC \u001b[90m(\u001b[39mmean ± σ\u001b[90m):  \u001b[39m0.00% ± 0.00%\n",
       "\n",
       "  \u001b[39m \u001b[39m█\u001b[34m█\u001b[39m\u001b[39m \u001b[39m▂\u001b[39m \u001b[32m \u001b[39m\u001b[39m \u001b[39m \u001b[39m \u001b[39m \u001b[39m \u001b[39m \u001b[39m \u001b[39m \u001b[39m \u001b[39m \u001b[39m \u001b[39m \u001b[39m \u001b[39m \u001b[39m \u001b[39m \u001b[39m \u001b[39m \u001b[39m \u001b[39m \u001b[39m \u001b[39m \u001b[39m \u001b[39m \u001b[39m \u001b[39m \u001b[39m \u001b[39m \u001b[39m \u001b[39m \u001b[39m \u001b[39m \u001b[39m \u001b[39m \u001b[39m \u001b[39m \u001b[39m \u001b[39m \u001b[39m \u001b[39m \u001b[39m \u001b[39m \u001b[39m \u001b[39m \u001b[39m \u001b[39m \u001b[39m \u001b[39m \u001b[39m \u001b[39m \u001b[39m \u001b[39m \u001b[39m \u001b[39m \u001b[39m \u001b[39m \n",
       "  \u001b[39m▆\u001b[39m█\u001b[34m█\u001b[39m\u001b[39m▆\u001b[39m█\u001b[39m▄\u001b[32m▁\u001b[39m\u001b[39m▁\u001b[39m▄\u001b[39m▁\u001b[39m▁\u001b[39m▁\u001b[39m▁\u001b[39m▁\u001b[39m▁\u001b[39m▁\u001b[39m▁\u001b[39m▄\u001b[39m▁\u001b[39m▁\u001b[39m▁\u001b[39m▁\u001b[39m▁\u001b[39m▁\u001b[39m▁\u001b[39m▁\u001b[39m▁\u001b[39m▁\u001b[39m▁\u001b[39m▁\u001b[39m▁\u001b[39m▁\u001b[39m▁\u001b[39m▁\u001b[39m▁\u001b[39m▁\u001b[39m▁\u001b[39m▁\u001b[39m▁\u001b[39m▁\u001b[39m▁\u001b[39m▁\u001b[39m▁\u001b[39m▁\u001b[39m▁\u001b[39m▁\u001b[39m▁\u001b[39m▁\u001b[39m▁\u001b[39m▁\u001b[39m▁\u001b[39m▁\u001b[39m▁\u001b[39m▁\u001b[39m▁\u001b[39m▁\u001b[39m▁\u001b[39m▁\u001b[39m▁\u001b[39m▁\u001b[39m▄\u001b[39m \u001b[39m▁\n",
       "  188 ms\u001b[90m           Histogram: frequency by time\u001b[39m          234 ms \u001b[0m\u001b[1m<\u001b[22m\n",
       "\n",
       " Memory estimate\u001b[90m: \u001b[39m\u001b[33m76.95 KiB\u001b[39m, allocs estimate\u001b[90m: \u001b[39m\u001b[33m2042\u001b[39m."
      ]
     },
     "execution_count": 23,
     "metadata": {},
     "output_type": "execute_result"
    }
   ],
   "source": [
    "b = @benchmark pi_string_threads_dynamic(1000)\n",
    "\n",
    "pi_threads_dynamic_t = minimum(b.times)\n",
    "\n",
    "b"
   ]
  },
  {
   "cell_type": "code",
   "execution_count": 24,
   "id": "99a29dc5-1d99-4a50-a8d7-bf96247d3ce1",
   "metadata": {
    "collapsed": true,
    "jupyter": {
     "outputs_hidden": true
    }
   },
   "outputs": [
    {
     "data": {
      "text/plain": [
       "51.66151437580111"
      ]
     },
     "execution_count": 24,
     "metadata": {},
     "output_type": "execute_result"
    }
   ],
   "source": [
    "pi_serial_t / pi_threads_dynamic_t / nthreads() * 100"
   ]
  },
  {
   "cell_type": "markdown",
   "id": "52201d41-ba3b-4492-976b-74555bf8ec1d",
   "metadata": {},
   "source": [
    "#### For-loop: greedy scheduler"
   ]
  },
  {
   "cell_type": "code",
   "execution_count": 25,
   "id": "8549cab0-3594-4568-bfb1-e2e8de454eac",
   "metadata": {
    "collapsed": true,
    "jupyter": {
     "outputs_hidden": true
    }
   },
   "outputs": [
    {
     "data": {
      "text/plain": [
       "true"
      ]
     },
     "execution_count": 25,
     "metadata": {},
     "output_type": "execute_result"
    }
   ],
   "source": [
    "function pi_string_threads_greedy(N)\n",
    "    digits = Vector{Int}(undef, N)\n",
    "    @threads :greedy for n in eachindex(digits)\n",
    "        digits[n] = pi_digit(n)\n",
    "    end\n",
    "    return \"0x3.\" * join(string.(digits, base = 16)) * \"p0\"\n",
    "end\n",
    "\n",
    "pi_string_threads_greedy(1000) == pi_string(1000)"
   ]
  },
  {
   "cell_type": "code",
   "execution_count": 26,
   "id": "0cb89838-64b8-4f3e-90cf-7fbd968b05ca",
   "metadata": {
    "collapsed": true,
    "jupyter": {
     "outputs_hidden": true
    }
   },
   "outputs": [
    {
     "data": {
      "text/plain": [
       "BenchmarkTools.Trial: 44 samples with 1 evaluation.\n",
       " Range \u001b[90m(\u001b[39m\u001b[36m\u001b[1mmin\u001b[22m\u001b[39m … \u001b[35mmax\u001b[39m\u001b[90m):  \u001b[39m\u001b[36m\u001b[1m110.462 ms\u001b[22m\u001b[39m … \u001b[35m133.489 ms\u001b[39m  \u001b[90m┊\u001b[39m GC \u001b[90m(\u001b[39mmin … max\u001b[90m): \u001b[39m0.00% … 0.00%\n",
       " Time  \u001b[90m(\u001b[39m\u001b[34m\u001b[1mmedian\u001b[22m\u001b[39m\u001b[90m):     \u001b[39m\u001b[34m\u001b[1m112.305 ms               \u001b[22m\u001b[39m\u001b[90m┊\u001b[39m GC \u001b[90m(\u001b[39mmedian\u001b[90m):    \u001b[39m0.00%\n",
       " Time  \u001b[90m(\u001b[39m\u001b[32m\u001b[1mmean\u001b[22m\u001b[39m ± \u001b[32mσ\u001b[39m\u001b[90m):   \u001b[39m\u001b[32m\u001b[1m114.226 ms\u001b[22m\u001b[39m ± \u001b[32m  4.670 ms\u001b[39m  \u001b[90m┊\u001b[39m GC \u001b[90m(\u001b[39mmean ± σ\u001b[90m):  \u001b[39m0.00% ± 0.00%\n",
       "\n",
       "  \u001b[39m█\u001b[39m█\u001b[39m \u001b[39m \u001b[39m \u001b[34m \u001b[39m\u001b[39m \u001b[39m \u001b[39m \u001b[39m \u001b[32m \u001b[39m\u001b[39m \u001b[39m \u001b[39m \u001b[39m \u001b[39m \u001b[39m \u001b[39m \u001b[39m \u001b[39m \u001b[39m \u001b[39m \u001b[39m \u001b[39m \u001b[39m \u001b[39m \u001b[39m \u001b[39m \u001b[39m \u001b[39m \u001b[39m \u001b[39m \u001b[39m \u001b[39m \u001b[39m \u001b[39m \u001b[39m \u001b[39m \u001b[39m \u001b[39m \u001b[39m \u001b[39m \u001b[39m \u001b[39m \u001b[39m \u001b[39m \u001b[39m \u001b[39m \u001b[39m \u001b[39m \u001b[39m \u001b[39m \u001b[39m \u001b[39m \u001b[39m \u001b[39m \u001b[39m \u001b[39m \u001b[39m \u001b[39m \u001b[39m \u001b[39m \u001b[39m \n",
       "  \u001b[39m█\u001b[39m█\u001b[39m▄\u001b[39m▆\u001b[39m▇\u001b[34m▄\u001b[39m\u001b[39m▄\u001b[39m▇\u001b[39m▄\u001b[39m▄\u001b[32m▄\u001b[39m\u001b[39m▄\u001b[39m▄\u001b[39m▁\u001b[39m▄\u001b[39m▁\u001b[39m▄\u001b[39m▁\u001b[39m▄\u001b[39m▄\u001b[39m▁\u001b[39m▁\u001b[39m▆\u001b[39m▄\u001b[39m▁\u001b[39m▆\u001b[39m▄\u001b[39m▁\u001b[39m▁\u001b[39m▁\u001b[39m▁\u001b[39m▁\u001b[39m▁\u001b[39m▁\u001b[39m▁\u001b[39m▁\u001b[39m▁\u001b[39m▁\u001b[39m▁\u001b[39m▄\u001b[39m▁\u001b[39m▁\u001b[39m▁\u001b[39m▁\u001b[39m▁\u001b[39m▁\u001b[39m▁\u001b[39m▁\u001b[39m▁\u001b[39m▁\u001b[39m▁\u001b[39m▁\u001b[39m▁\u001b[39m▁\u001b[39m▁\u001b[39m▁\u001b[39m▁\u001b[39m▁\u001b[39m▁\u001b[39m▁\u001b[39m▄\u001b[39m \u001b[39m▁\n",
       "  110 ms\u001b[90m           Histogram: frequency by time\u001b[39m          133 ms \u001b[0m\u001b[1m<\u001b[22m\n",
       "\n",
       " Memory estimate\u001b[90m: \u001b[39m\u001b[33m86.50 KiB\u001b[39m, allocs estimate\u001b[90m: \u001b[39m\u001b[33m2561\u001b[39m."
      ]
     },
     "execution_count": 26,
     "metadata": {},
     "output_type": "execute_result"
    }
   ],
   "source": [
    "b = @benchmark pi_string_threads_greedy(1000)\n",
    "\n",
    "pi_threads_greedy_t = minimum(b.times)\n",
    "\n",
    "b"
   ]
  },
  {
   "cell_type": "code",
   "execution_count": 27,
   "id": "a350c8ea-0439-4442-a77b-5f309f997703",
   "metadata": {
    "collapsed": true,
    "jupyter": {
     "outputs_hidden": true
    }
   },
   "outputs": [
    {
     "data": {
      "text/plain": [
       "88.0777450483477"
      ]
     },
     "execution_count": 27,
     "metadata": {},
     "output_type": "execute_result"
    }
   ],
   "source": [
    "pi_serial_t / pi_threads_greedy_t / nthreads() * 100"
   ]
  },
  {
   "cell_type": "markdown",
   "id": "69a7522c-7ae4-47e3-86dd-10e5b1977bd8",
   "metadata": {},
   "source": [
    "#### Tasks"
   ]
  },
  {
   "cell_type": "code",
   "execution_count": 28,
   "id": "a8b5a4bc-31b4-4d70-aedf-89e539b69988",
   "metadata": {
    "collapsed": true,
    "jupyter": {
     "outputs_hidden": true
    }
   },
   "outputs": [
    {
     "data": {
      "text/plain": [
       "true"
      ]
     },
     "execution_count": 28,
     "metadata": {},
     "output_type": "execute_result"
    }
   ],
   "source": [
    "function pi_string_tasks(N)\n",
    "    tasks = [Threads.@spawn pi_digit(n) for n in 1:N]\n",
    "    digits = [fetch(t) for t in tasks]\n",
    "    return \"0x3.\" * join(string.(digits, base = 16)) * \"p0\"\n",
    "end\n",
    "\n",
    "pi_string_tasks(1000) == pi_string(1000)"
   ]
  },
  {
   "cell_type": "code",
   "execution_count": 29,
   "id": "1fd9a535-acfe-410d-87b2-329723cd79d8",
   "metadata": {
    "collapsed": true,
    "jupyter": {
     "outputs_hidden": true
    }
   },
   "outputs": [
    {
     "data": {
      "text/plain": [
       "BenchmarkTools.Trial: 48 samples with 1 evaluation.\n",
       " Range \u001b[90m(\u001b[39m\u001b[36m\u001b[1mmin\u001b[22m\u001b[39m … \u001b[35mmax\u001b[39m\u001b[90m):  \u001b[39m\u001b[36m\u001b[1m104.091 ms\u001b[22m\u001b[39m … \u001b[35m114.078 ms\u001b[39m  \u001b[90m┊\u001b[39m GC \u001b[90m(\u001b[39mmin … max\u001b[90m): \u001b[39m0.00% … 0.00%\n",
       " Time  \u001b[90m(\u001b[39m\u001b[34m\u001b[1mmedian\u001b[22m\u001b[39m\u001b[90m):     \u001b[39m\u001b[34m\u001b[1m105.149 ms               \u001b[22m\u001b[39m\u001b[90m┊\u001b[39m GC \u001b[90m(\u001b[39mmedian\u001b[90m):    \u001b[39m0.00%\n",
       " Time  \u001b[90m(\u001b[39m\u001b[32m\u001b[1mmean\u001b[22m\u001b[39m ± \u001b[32mσ\u001b[39m\u001b[90m):   \u001b[39m\u001b[32m\u001b[1m106.160 ms\u001b[22m\u001b[39m ± \u001b[32m  2.415 ms\u001b[39m  \u001b[90m┊\u001b[39m GC \u001b[90m(\u001b[39mmean ± σ\u001b[90m):  \u001b[39m0.00% ± 0.00%\n",
       "\n",
       "  \u001b[39m█\u001b[39m \u001b[39m \u001b[39m \u001b[39m \u001b[39m \u001b[34m \u001b[39m\u001b[39m \u001b[39m \u001b[39m \u001b[39m \u001b[39m \u001b[39m \u001b[32m \u001b[39m\u001b[39m \u001b[39m \u001b[39m \u001b[39m \u001b[39m \u001b[39m \u001b[39m \u001b[39m \u001b[39m \u001b[39m \u001b[39m \u001b[39m \u001b[39m \u001b[39m \u001b[39m \u001b[39m \u001b[39m \u001b[39m \u001b[39m \u001b[39m \u001b[39m \u001b[39m \u001b[39m \u001b[39m \u001b[39m \u001b[39m \u001b[39m \u001b[39m \u001b[39m \u001b[39m \u001b[39m \u001b[39m \u001b[39m \u001b[39m \u001b[39m \u001b[39m \u001b[39m \u001b[39m \u001b[39m \u001b[39m \u001b[39m \u001b[39m \u001b[39m \u001b[39m \u001b[39m \u001b[39m \u001b[39m \u001b[39m \u001b[39m \n",
       "  \u001b[39m█\u001b[39m█\u001b[39m▅\u001b[39m█\u001b[39m▆\u001b[39m▃\u001b[34m▁\u001b[39m\u001b[39m▅\u001b[39m▁\u001b[39m▃\u001b[39m▁\u001b[39m▁\u001b[39m▃\u001b[32m▃\u001b[39m\u001b[39m█\u001b[39m▃\u001b[39m▃\u001b[39m▅\u001b[39m▃\u001b[39m▃\u001b[39m▁\u001b[39m▁\u001b[39m▁\u001b[39m▃\u001b[39m▃\u001b[39m▁\u001b[39m▁\u001b[39m▃\u001b[39m▁\u001b[39m▁\u001b[39m▁\u001b[39m▁\u001b[39m▁\u001b[39m▁\u001b[39m▃\u001b[39m▁\u001b[39m▁\u001b[39m▃\u001b[39m▃\u001b[39m▁\u001b[39m▁\u001b[39m▁\u001b[39m▃\u001b[39m▁\u001b[39m▁\u001b[39m▁\u001b[39m▁\u001b[39m▁\u001b[39m▁\u001b[39m▁\u001b[39m▁\u001b[39m▁\u001b[39m▁\u001b[39m▁\u001b[39m▃\u001b[39m▁\u001b[39m▁\u001b[39m▁\u001b[39m▁\u001b[39m▁\u001b[39m▃\u001b[39m \u001b[39m▁\n",
       "  104 ms\u001b[90m           Histogram: frequency by time\u001b[39m          114 ms \u001b[0m\u001b[1m<\u001b[22m\n",
       "\n",
       " Memory estimate\u001b[90m: \u001b[39m\u001b[33m567.61 KiB\u001b[39m, allocs estimate\u001b[90m: \u001b[39m\u001b[33m7036\u001b[39m."
      ]
     },
     "execution_count": 29,
     "metadata": {},
     "output_type": "execute_result"
    }
   ],
   "source": [
    "b = @benchmark pi_string_tasks(1000)\n",
    "\n",
    "pi_tasks_t = minimum(b.times)\n",
    "\n",
    "b"
   ]
  },
  {
   "cell_type": "code",
   "execution_count": 30,
   "id": "a25abf64-ebbe-492a-bd9a-4f190f87ab37",
   "metadata": {
    "collapsed": true,
    "jupyter": {
     "outputs_hidden": true
    },
    "tags": []
   },
   "outputs": [
    {
     "data": {
      "text/plain": [
       "93.46867797009104"
      ]
     },
     "execution_count": 30,
     "metadata": {},
     "output_type": "execute_result"
    }
   ],
   "source": [
    "pi_serial_t / pi_tasks_t / nthreads() * 100"
   ]
  }
 ],
 "metadata": {
  "kernelspec": {
   "display_name": "Julia 1.11.1",
   "language": "julia",
   "name": "julia-1.11"
  },
  "language_info": {
   "file_extension": ".jl",
   "mimetype": "application/julia",
   "name": "julia",
   "version": "1.11.1"
  }
 },
 "nbformat": 4,
 "nbformat_minor": 5
}
