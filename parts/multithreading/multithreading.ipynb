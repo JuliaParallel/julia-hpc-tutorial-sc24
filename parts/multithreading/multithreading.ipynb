{
 "cells": [
  {
   "cell_type": "markdown",
   "id": "e899361a-1216-4170-911e-5f0df8da8b09",
   "metadata": {},
   "source": [
    "# Multithreading in Julia\n",
    "\n",
    "_Part of this notebook is inspired by the material of th [Julia for HPC Course @ UCL ARC ](https://github.com/carstenbauer/JuliaUCL24) by Carsten Bauer._\n",
    "\n",
    "## Setup"
   ]
  },
  {
   "cell_type": "code",
   "execution_count": 1,
   "id": "a048538f-2175-4a14-87af-5aba4b12841e",
   "metadata": {
    "tags": []
   },
   "outputs": [],
   "source": [
    "# Running this cell is important to make sure we install all the necessary packages.\n",
    "using Pkg\n",
    "Pkg.instantiate()"
   ]
  },
  {
   "cell_type": "markdown",
   "id": "85c6fd7d-70bb-47c5-8503-f6c32f6e1dfa",
   "metadata": {},
   "source": [
    "## Thread pinning"
   ]
  },
  {
   "cell_type": "code",
   "execution_count": 2,
   "id": "ca1af96a-bfd4-4846-89e9-07e49d1d4e5d",
   "metadata": {
    "tags": []
   },
   "outputs": [
    {
     "name": "stdout",
     "output_type": "stream",
     "text": [
      "Hostname: \tnid001041\n",
      "CPU(s): \t1 x AMD EPYC 7763 64-Core Processor\n",
      "CPU target: \tznver3\n",
      "Cores: \t\t64 (128 CPU-threads due to 2-way SMT)\n",
      "NUMA domains: \t4 (16 cores each)\n",
      "\n",
      "\u001b[31m\u001b[1mSLURM: 128 assigned CPU-threads (entire node).\u001b[22m\u001b[39m\n",
      "\n",
      "\u001b[32m\u001b[1mJulia threads: \t16\u001b[22m\u001b[39m\n",
      "\n",
      "\u001b[36m\u001b[1mCPU socket 1\u001b[22m\u001b[39m\n",
      "  \u001b[33m\u001b[1m0\u001b[22m\u001b[39m,\u001b[90m64\u001b[39m, \u001b[33m\u001b[1m1\u001b[22m\u001b[39m,\u001b[90m65\u001b[39m, \u001b[33m\u001b[1m2\u001b[22m\u001b[39m,\u001b[90m66\u001b[39m, \u001b[33m\u001b[1m3\u001b[22m\u001b[39m,\u001b[90m67\u001b[39m, \u001b[33m\u001b[1m4\u001b[22m\u001b[39m,\u001b[90m68\u001b[39m, \u001b[33m\u001b[1m5\u001b[22m\u001b[39m,\u001b[90m69\u001b[39m, \u001b[33m\u001b[1m6\u001b[22m\u001b[39m,\u001b[90m70\u001b[39m, \u001b[33m\u001b[1m7\u001b[22m\u001b[39m,\u001b[90m71\u001b[39m, \n",
      "  \u001b[33m\u001b[1m8\u001b[22m\u001b[39m,\u001b[90m72\u001b[39m, \u001b[33m\u001b[1m9\u001b[22m\u001b[39m,\u001b[90m73\u001b[39m, \u001b[33m\u001b[1m10\u001b[22m\u001b[39m,\u001b[90m74\u001b[39m, \u001b[33m\u001b[1m11\u001b[22m\u001b[39m,\u001b[90m75\u001b[39m, \u001b[33m\u001b[1m12\u001b[22m\u001b[39m,\u001b[90m76\u001b[39m, \u001b[33m\u001b[1m13\u001b[22m\u001b[39m,\u001b[90m77\u001b[39m, \u001b[33m\u001b[1m14\u001b[22m\u001b[39m,\u001b[90m78\u001b[39m, \u001b[33m\u001b[1m15\u001b[22m\u001b[39m,\u001b[90m79\u001b[39m, \n",
      "  \u001b[39m16,\u001b[90m80\u001b[39m, \u001b[39m17,\u001b[90m81\u001b[39m, \u001b[39m18,\u001b[90m82\u001b[39m, \u001b[39m19,\u001b[90m83\u001b[39m, \u001b[39m20,\u001b[90m84\u001b[39m, \u001b[39m21,\u001b[90m85\u001b[39m, \u001b[39m22,\u001b[90m86\u001b[39m, \u001b[39m23,\u001b[90m87\u001b[39m, \n",
      "  \u001b[39m24,\u001b[90m88\u001b[39m, \u001b[39m25,\u001b[90m89\u001b[39m, \u001b[39m26,\u001b[90m90\u001b[39m, \u001b[39m27,\u001b[90m91\u001b[39m, \u001b[39m28,\u001b[90m92\u001b[39m, \u001b[39m29,\u001b[90m93\u001b[39m, \u001b[39m30,\u001b[90m94\u001b[39m, \u001b[39m31,\u001b[90m95\u001b[39m, \n",
      "  \u001b[39m32,\u001b[90m96\u001b[39m, \u001b[39m33,\u001b[90m97\u001b[39m, \u001b[39m34,\u001b[90m98\u001b[39m, \u001b[39m35,\u001b[90m99\u001b[39m, \u001b[39m36,\u001b[90m100\u001b[39m, \u001b[39m37,\u001b[90m101\u001b[39m, \u001b[39m38,\u001b[90m102\u001b[39m, \u001b[39m39,\u001b[90m103\u001b[39m, \n",
      "  \u001b[39m40,\u001b[90m104\u001b[39m, \u001b[39m41,\u001b[90m105\u001b[39m, \u001b[39m42,\u001b[90m106\u001b[39m, \u001b[39m43,\u001b[90m107\u001b[39m, \u001b[39m44,\u001b[90m108\u001b[39m, \u001b[39m45,\u001b[90m109\u001b[39m, \u001b[39m46,\u001b[90m110\u001b[39m, \u001b[39m47,\u001b[90m111\u001b[39m, \n",
      "  \u001b[39m48,\u001b[90m112\u001b[39m, \u001b[39m49,\u001b[90m113\u001b[39m, \u001b[39m50,\u001b[90m114\u001b[39m, \u001b[39m51,\u001b[90m115\u001b[39m, \u001b[39m52,\u001b[90m116\u001b[39m, \u001b[39m53,\u001b[90m117\u001b[39m, \u001b[39m54,\u001b[90m118\u001b[39m, \u001b[39m55,\u001b[90m119\u001b[39m, \n",
      "  \u001b[39m56,\u001b[90m120\u001b[39m, \u001b[39m57,\u001b[90m121\u001b[39m, \u001b[39m58,\u001b[90m122\u001b[39m, \u001b[39m59,\u001b[90m123\u001b[39m, \u001b[39m60,\u001b[90m124\u001b[39m, \u001b[39m61,\u001b[90m125\u001b[39m, \u001b[39m62,\u001b[90m126\u001b[39m, \u001b[39m63,\u001b[90m127\u001b[39m\n",
      "\n",
      "\n",
      "\u001b[33m\u001b[1m#\u001b[22m\u001b[39m = Julia thread, \u001b[95m\u001b[1m#\u001b[22m\u001b[39m = Julia thread on HT, \u001b[31m\u001b[1m#\u001b[22m\u001b[39m = >1 Julia thread\n",
      "\n",
      "\u001b[90m(Mapping:\u001b[39m\u001b[90m 1 => 0,\u001b[39m\u001b[90m 2 => 1,\u001b[39m\u001b[90m 3 => 2,\u001b[39m\u001b[90m 4 => 3,\u001b[39m\u001b[90m 5 => 4,\u001b[39m\u001b[90m ...\u001b[39m)\n"
     ]
    }
   ],
   "source": [
    "using ThreadPinning\n",
    "pinthreads(:cores)\n",
    "threadinfo(; slurm=ThreadPinning.SLURM.isslurmjob())"
   ]
  },
  {
   "cell_type": "markdown",
   "id": "e7c7002f-faa6-4d15-b3bb-137f04153b84",
   "metadata": {},
   "source": [
    "## Spawning parallel tasks"
   ]
  },
  {
   "cell_type": "code",
   "execution_count": 3,
   "id": "8d086025-6330-49c9-8c38-b7a9d86fc0ec",
   "metadata": {
    "tags": []
   },
   "outputs": [
    {
     "name": "stdout",
     "output_type": "stream",
     "text": [
      "nthreads() = 16\n"
     ]
    }
   ],
   "source": [
    "using Base.Threads\n",
    "\n",
    "@show nthreads();"
   ]
  },
  {
   "cell_type": "code",
   "execution_count": 4,
   "id": "d6896cf1-52dd-4c09-8ff0-20041ef49dd6",
   "metadata": {
    "tags": []
   },
   "outputs": [
    {
     "name": "stdout",
     "output_type": "stream",
     "text": [
      "  0.006382 seconds (2.81 k allocations: 202.148 KiB, 98.85% compilation time)\n",
      "  1.974770 seconds (273 allocations: 17.328 KiB, 0.18% compilation time)\n"
     ]
    },
    {
     "data": {
      "text/plain": [
       "6"
      ]
     },
     "execution_count": 4,
     "metadata": {},
     "output_type": "execute_result"
    }
   ],
   "source": [
    "@time t = @spawn begin # `@spawn` returns right away\n",
    "    sleep(2)\n",
    "    3+3\n",
    "end\n",
    "\n",
    "@time fetch(t) # `fetch` waits for the task to finish"
   ]
  },
  {
   "cell_type": "markdown",
   "id": "29a4ab8b-7519-4736-8b03-47a8a020740c",
   "metadata": {},
   "source": [
    "## Example: multi-threaded `map`"
   ]
  },
  {
   "cell_type": "code",
   "execution_count": 5,
   "id": "2b6c8785-32ce-41a0-9048-ab21ce27ed41",
   "metadata": {
    "tags": []
   },
   "outputs": [
    {
     "name": "stdout",
     "output_type": "stream",
     "text": [
      "  73.021 ms (1025 allocations: 17.26 MiB)\n",
      "  6.353 ms (1673 allocations: 17.32 MiB)\n"
     ]
    }
   ],
   "source": [
    "using LinearAlgebra, BenchmarkTools\n",
    "\n",
    "BLAS.set_num_threads(1) # Fix number of BLAS threads\n",
    "\n",
    "function tmap(fn, itr)\n",
    "    # for each i ∈ itr, spawn a task to compute fn(i)\n",
    "    tasks = map(i -> @spawn(fn(i)), itr)\n",
    "    # fetch and return all the results\n",
    "    return fetch.(tasks)\n",
    "end\n",
    "\n",
    "M = [rand(100,100) for i in 1:(8 * nthreads())];\n",
    "\n",
    "tmap(svdvals, M);\n",
    "\n",
    "@btime  map(svdvals, $M) samples=10 evals=3;\n",
    "@btime tmap(svdvals, $M) samples=10 evals=3;"
   ]
  },
  {
   "cell_type": "markdown",
   "id": "88358e2d-0b6c-4d18-8ebf-fa3406f86043",
   "metadata": {},
   "source": [
    "***Exercise***: do you see any difference if you increase the number of BLAS threads?"
   ]
  },
  {
   "cell_type": "markdown",
   "id": "36627189-000e-45ee-84d9-b49665e2b333",
   "metadata": {},
   "source": [
    "## Example: multi-threaded `for` loop (reduction)"
   ]
  },
  {
   "cell_type": "code",
   "execution_count": 6,
   "id": "2bcfbc38-3f2c-4f2e-b354-8d66bec8b31e",
   "metadata": {
    "tags": []
   },
   "outputs": [
    {
     "name": "stdout",
     "output_type": "stream",
     "text": [
      "  236.035 ms (0 allocations: 0 bytes)\n",
      "  16.543 ms (85 allocations: 8.73 KiB)\n"
     ]
    }
   ],
   "source": [
    "using ChunkSplitters, Base.Threads, BenchmarkTools\n",
    "\n",
    "function sum_threads(fn, data; nchunks=nthreads())\n",
    "    psums = zeros(eltype(data), nchunks)\n",
    "    @threads :static for (c, elements) in enumerate(chunks(data; n=nchunks))\n",
    "        psums[c] = sum(fn, elements)\n",
    "    end\n",
    "    return sum(psums)\n",
    "end\n",
    "\n",
    "v = randn(20_000_000);\n",
    "\n",
    "@btime sum(sin, $v);\n",
    "\n",
    "@btime sum_threads(sin, $v);"
   ]
  },
  {
   "cell_type": "markdown",
   "id": "50040792-a994-43f4-8a18-12a48c6192d1",
   "metadata": {},
   "source": [
    "***Exercise***: do you see differences if you change the scheduler type?  Remember you can choose between `:dynamic` (currently the default if omitted), `:greedy` (only if using Julia v1.11+), and `:static`."
   ]
  },
  {
   "cell_type": "code",
   "execution_count": 7,
   "id": "57787983-bf74-4a89-be6f-dc8ce5e9ad23",
   "metadata": {
    "tags": []
   },
   "outputs": [
    {
     "name": "stdout",
     "output_type": "stream",
     "text": [
      "  16.517 ms (112 allocations: 9.34 KiB)\n"
     ]
    }
   ],
   "source": [
    "function sum_map_spawn(fn, data; nchunks=nthreads())\n",
    "    ts = map(chunks(data, n=nchunks)) do elements\n",
    "        @spawn sum(fn, elements)\n",
    "    end\n",
    "    return sum(fetch.(ts))\n",
    "end\n",
    "\n",
    "@btime sum_map_spawn(sin, $v);"
   ]
  },
  {
   "cell_type": "code",
   "execution_count": 8,
   "id": "19072e0f-e688-426b-b4d4-90e030856001",
   "metadata": {
    "tags": []
   },
   "outputs": [
    {
     "name": "stdout",
     "output_type": "stream",
     "text": [
      "  16.492 ms (104 allocations: 9.70 KiB)\n"
     ]
    }
   ],
   "source": [
    "using OhMyThreads: @tasks\n",
    "\n",
    "function sum_tasks(fn, data; nchunks=nthreads())\n",
    "    psums = zeros(eltype(data), nchunks)\n",
    "    @tasks for (c, elements) in enumerate(chunks(data; n=nchunks))\n",
    "        psums[c] = sum(fn, elements)\n",
    "    end\n",
    "    return sum(psums)\n",
    "end\n",
    "\n",
    "@btime sum_tasks(sin, $v);"
   ]
  },
  {
   "cell_type": "code",
   "execution_count": 9,
   "id": "05c9bc38-11cf-4fca-b314-1b7a08ecb7a0",
   "metadata": {
    "tags": []
   },
   "outputs": [
    {
     "name": "stdout",
     "output_type": "stream",
     "text": [
      "  16.517 ms (345 allocations: 28.81 KiB)\n"
     ]
    }
   ],
   "source": [
    "using OhMyThreads: tmapreduce\n",
    "\n",
    "@btime tmapreduce(sin, +, $v);"
   ]
  },
  {
   "cell_type": "markdown",
   "id": "4e385c3f-0650-48a5-bd48-b55610a752d7",
   "metadata": {},
   "source": [
    "## Multi-threading: is it always worth it?"
   ]
  },
  {
   "cell_type": "code",
   "execution_count": 10,
   "id": "63704d16-69b4-4f8f-9436-0fcfc4a0cf71",
   "metadata": {
    "tags": []
   },
   "outputs": [
    {
     "name": "stdout",
     "output_type": "stream",
     "text": [
      "  15.922 ns (0 allocations: 0 bytes)\n",
      "  22.153 μs (81 allocations: 8.17 KiB)\n"
     ]
    }
   ],
   "source": [
    "using BenchmarkTools\n",
    "\n",
    "function overhead!(v)\n",
    "    for idx in eachindex(v)\n",
    "        v[idx] = idx\n",
    "    end\n",
    "end\n",
    "    \n",
    "function overhead_threads!(v)\n",
    "    @threads for idx in eachindex(v)\n",
    "        v[idx] = idx\n",
    "    end\n",
    "end\n",
    "\n",
    "N = 10\n",
    "\n",
    "@btime overhead!(v) setup=(v = Vector{Int}(undef, N))\n",
    "@btime overhead_threads!(v) setup=(v = Vector{Int}(undef, N))"
   ]
  },
  {
   "cell_type": "markdown",
   "id": "dc91a613-b722-48d7-95c3-6123629bfb13",
   "metadata": {},
   "source": [
    "***Exercise***: do you see any improvement in the parallel efficiency if you change the size of the problem (here: `N`)?"
   ]
  },
  {
   "cell_type": "markdown",
   "id": "9d824e83-278b-4e6a-b1f8-4f0ce5e93940",
   "metadata": {},
   "source": [
    "## Unbalanced workload: computing hexadecimal $\\pi$\n",
    "\n",
    "_This section is inspired by the blogpost [Computing the hexadecimal value of pi](https://giordano.github.io/blog/2017-11-21-hexadecimal-pi/) by Mosè Giordano._\n",
    "\n",
    "The [Bailey–Borwein–Plouffe formula](https://en.wikipedia.org/wiki/Bailey%E2%80%93Borwein%E2%80%93Plouffe_formula) is one of the [several algorithms to compute $\\pi$](https://en.wikipedia.org/wiki/Approximations_of_%CF%80):\n",
    "\n",
    "$$\n",
    "\\pi = \\sum_{k = 0}^{\\infty}\\left[ \\frac{1}{16^k} \\left( \\frac{4}{8k + 1} -\n",
    "\\frac{2}{8k + 4} - \\frac{1}{8k + 5} - \\frac{1}{8k + 6} \\right) \\right]\n",
    "$$\n",
    "\n",
    "What makes this formula stand out among other approximations of $\\pi$ is that it allows one to directly extract the $n$-th fractional digit of the hexadecimal value of $\\pi$ without computing the preceding ones.\n",
    "\n",
    "The Wikipedia article about the Bailey–Borwein–Plouffe formula explains that the $n + 1$-th fractional digit $d_n$ is given by\n",
    "\n",
    "$$\n",
    "d_{n} = 16 \\left[ 4 \\Sigma(n, 1) - 2 \\Sigma(n, 4) - \\Sigma(n, 5) - \\Sigma(n,\n",
    "6) \\right]\n",
    "$$\n",
    "\n",
    "where\n",
    "\n",
    "$$\n",
    "\\Sigma(n, j) = \\sum_{k = 0}^{n} \\frac{16^{n-k} \\bmod (8k+j)}{8k+j} + \\sum_{k\n",
    "= n+1}^{\\infty} \\frac{16^{n-k}}{8k+j}\n",
    "$$\n",
    "\n",
    "Only the fractional part of expression in square brackets on the right side of $d_n$ is relevant, thus, in order to avoid rounding errors, when we compute each term of the finite sum above we can take only the fractional part. This allows us to always use ordinary double precision floating-point arithmetic, without resorting to arbitrary-precision numbers. In addition note that the terms of the infinite sum get quickly very small, so we can stop the summation when they become negligible.\n",
    "\n",
    "### Serial implementation"
   ]
  },
  {
   "cell_type": "code",
   "execution_count": 11,
   "id": "fa121014-046d-4fdc-9be9-d8bed49285de",
   "metadata": {
    "tags": []
   },
   "outputs": [
    {
     "data": {
      "text/plain": [
       "pi_string (generic function with 1 method)"
      ]
     },
     "execution_count": 11,
     "metadata": {},
     "output_type": "execute_result"
    }
   ],
   "source": [
    "# Return the fractional part of x, modulo 1, always positive\n",
    "fpart(x) = mod(x, one(x))\n",
    "\n",
    "function Σ(n, j)\n",
    "    # Compute the finite sum\n",
    "    s = 0.0\n",
    "    denom = j\n",
    "    for k in 0:n\n",
    "        s = fpart(s + powermod(16, n - k, denom) / denom)\n",
    "        denom += 8\n",
    "    end\n",
    "    # Compute the infinite sum\n",
    "    num = 1 / 16\n",
    "    while (frac = num / denom) > eps(s)\n",
    "        s     += frac\n",
    "        num   /= 16\n",
    "        denom += 8\n",
    "    end\n",
    "    return fpart(s)\n",
    "end\n",
    "\n",
    "pi_digit(n) =\n",
    "    floor(Int, 16 * fpart(4Σ(n-1, 1) - 2Σ(n-1, 4) - Σ(n-1, 5) - Σ(n-1, 6)))\n",
    "\n",
    "pi_string(n) = \"0x3.\" * join(string.(pi_digit.(1:n), base = 16)) * \"p0\""
   ]
  },
  {
   "cell_type": "markdown",
   "id": "62292be8-4c5b-4112-a207-e9148874d578",
   "metadata": {},
   "source": [
    "Let's make sure this works:"
   ]
  },
  {
   "cell_type": "code",
   "execution_count": 12,
   "id": "441d3e6f-0b07-430e-8f99-460725b47c21",
   "metadata": {
    "tags": []
   },
   "outputs": [
    {
     "data": {
      "text/plain": [
       "\"0x3.243f6a8885a30p0\""
      ]
     },
     "execution_count": 12,
     "metadata": {},
     "output_type": "execute_result"
    }
   ],
   "source": [
    "pi_string(13)"
   ]
  },
  {
   "cell_type": "code",
   "execution_count": 13,
   "id": "8a9a23ba-70d4-474b-9cd5-bdb84d4e3d93",
   "metadata": {
    "tags": []
   },
   "outputs": [
    {
     "data": {
      "text/plain": [
       "3.141592653589793"
      ]
     },
     "execution_count": 13,
     "metadata": {},
     "output_type": "execute_result"
    }
   ],
   "source": [
    "# Parse the string as a double-precision floating point number\n",
    "parse(Float64, pi_string(13))"
   ]
  },
  {
   "cell_type": "code",
   "execution_count": 14,
   "id": "0ea6ef16-6f47-47e9-867d-b1153fab396c",
   "metadata": {
    "tags": []
   },
   "outputs": [
    {
     "data": {
      "text/plain": [
       "true"
      ]
     },
     "execution_count": 14,
     "metadata": {},
     "output_type": "execute_result"
    }
   ],
   "source": [
    "Float64(π) == parse(Float64, pi_string(13))"
   ]
  },
  {
   "cell_type": "code",
   "execution_count": 15,
   "id": "93fbbc5e-face-4582-a260-e619ed87835c",
   "metadata": {
    "tags": []
   },
   "outputs": [
    {
     "data": {
      "text/plain": [
       "true"
      ]
     },
     "execution_count": 15,
     "metadata": {},
     "output_type": "execute_result"
    }
   ],
   "source": [
    "N_pi = 1_000\n",
    "\n",
    "setprecision(BigFloat, 4 * N_pi) do\n",
    "    BigFloat(π) == parse(BigFloat, pi_string(N_pi))\n",
    "end"
   ]
  },
  {
   "cell_type": "code",
   "execution_count": 16,
   "id": "e689e73d-531d-429c-b2f2-9b36a01833b5",
   "metadata": {
    "tags": []
   },
   "outputs": [
    {
     "data": {
      "text/plain": [
       "BenchmarkTools.Trial: 20 samples with 1 evaluation.\n",
       " Range \u001b[90m(\u001b[39m\u001b[36m\u001b[1mmin\u001b[22m\u001b[39m … \u001b[35mmax\u001b[39m\u001b[90m):  \u001b[39m\u001b[36m\u001b[1m247.706 ms\u001b[22m\u001b[39m … \u001b[35m264.021 ms\u001b[39m  \u001b[90m┊\u001b[39m GC \u001b[90m(\u001b[39mmin … max\u001b[90m): \u001b[39m0.00% … 0.00%\n",
       " Time  \u001b[90m(\u001b[39m\u001b[34m\u001b[1mmedian\u001b[22m\u001b[39m\u001b[90m):     \u001b[39m\u001b[34m\u001b[1m248.879 ms               \u001b[22m\u001b[39m\u001b[90m┊\u001b[39m GC \u001b[90m(\u001b[39mmedian\u001b[90m):    \u001b[39m0.00%\n",
       " Time  \u001b[90m(\u001b[39m\u001b[32m\u001b[1mmean\u001b[22m\u001b[39m ± \u001b[32mσ\u001b[39m\u001b[90m):   \u001b[39m\u001b[32m\u001b[1m251.850 ms\u001b[22m\u001b[39m ± \u001b[32m  5.038 ms\u001b[39m  \u001b[90m┊\u001b[39m GC \u001b[90m(\u001b[39mmean ± σ\u001b[90m):  \u001b[39m0.00% ± 0.00%\n",
       "\n",
       "  \u001b[39m▁\u001b[39m \u001b[39m▄\u001b[39m▁\u001b[34m█\u001b[39m\u001b[39m \u001b[39m \u001b[39m \u001b[39m \u001b[39m \u001b[39m \u001b[39m \u001b[39m \u001b[39m \u001b[39m \u001b[32m \u001b[39m\u001b[39m \u001b[39m \u001b[39m \u001b[39m \u001b[39m \u001b[39m \u001b[39m \u001b[39m \u001b[39m \u001b[39m \u001b[39m \u001b[39m \u001b[39m \u001b[39m \u001b[39m \u001b[39m \u001b[39m \u001b[39m \u001b[39m \u001b[39m \u001b[39m \u001b[39m \u001b[39m \u001b[39m \u001b[39m \u001b[39m \u001b[39m \u001b[39m \u001b[39m \u001b[39m \u001b[39m \u001b[39m \u001b[39m \u001b[39m \u001b[39m \u001b[39m \u001b[39m \u001b[39m \u001b[39m \u001b[39m \u001b[39m \u001b[39m \u001b[39m \u001b[39m \u001b[39m \u001b[39m \u001b[39m \n",
       "  \u001b[39m█\u001b[39m▆\u001b[39m█\u001b[39m█\u001b[34m█\u001b[39m\u001b[39m▆\u001b[39m▁\u001b[39m▁\u001b[39m▁\u001b[39m▁\u001b[39m▁\u001b[39m▁\u001b[39m▁\u001b[39m▁\u001b[39m▁\u001b[32m▁\u001b[39m\u001b[39m▁\u001b[39m▁\u001b[39m▁\u001b[39m▆\u001b[39m▁\u001b[39m▁\u001b[39m▁\u001b[39m▁\u001b[39m▁\u001b[39m▁\u001b[39m▁\u001b[39m▁\u001b[39m▁\u001b[39m▆\u001b[39m▁\u001b[39m▁\u001b[39m▁\u001b[39m▁\u001b[39m▁\u001b[39m▆\u001b[39m▁\u001b[39m▆\u001b[39m▁\u001b[39m▁\u001b[39m▁\u001b[39m▆\u001b[39m▁\u001b[39m▁\u001b[39m▆\u001b[39m▁\u001b[39m▁\u001b[39m▁\u001b[39m▁\u001b[39m▁\u001b[39m▁\u001b[39m▁\u001b[39m▁\u001b[39m▁\u001b[39m▁\u001b[39m▁\u001b[39m▁\u001b[39m▁\u001b[39m▁\u001b[39m▁\u001b[39m▆\u001b[39m \u001b[39m▁\n",
       "  248 ms\u001b[90m           Histogram: frequency by time\u001b[39m          264 ms \u001b[0m\u001b[1m<\u001b[22m\n",
       "\n",
       " Memory estimate\u001b[90m: \u001b[39m\u001b[33m98.05 KiB\u001b[39m, allocs estimate\u001b[90m: \u001b[39m\u001b[33m2009\u001b[39m."
      ]
     },
     "execution_count": 16,
     "metadata": {},
     "output_type": "execute_result"
    }
   ],
   "source": [
    "using BenchmarkTools\n",
    "\n",
    "b = @benchmark pi_string(N_pi)\n",
    "\n",
    "pi_serial_t = minimum(b.times)\n",
    "\n",
    "b"
   ]
  },
  {
   "cell_type": "markdown",
   "id": "c6e91305-4c96-4c77-b3e2-e3e272475b33",
   "metadata": {},
   "source": [
    "### Multi-threaded implementation\n",
    "\n",
    "Since the Bailey–Borwtimesn–Plouffe formula extracts the $n$-th digit of $\\pi$ without computing the other ones, we can write a multi-threaded version of `pi_string`, taking advantage of native support for [multi-threading](https://docs.julialang.org/en/v1/manual/multi-threading/) in Julia. However note that the computational cost of `pi_digit` is $O(n\\log(n))$, so the larger the value of $n$, the longer the function will take, which makes this workload very unbalanced. ***Question***: what do you expect to be the worst performing scheduler?\n",
    "\n",
    "#### For-loop: static scheduler"
   ]
  },
  {
   "cell_type": "code",
   "execution_count": 17,
   "id": "4e9b2ccb-3965-4dc2-95cb-3030ef49b314",
   "metadata": {
    "tags": []
   },
   "outputs": [
    {
     "data": {
      "text/plain": [
       "BenchmarkTools.Trial: 139 samples with 1 evaluation.\n",
       " Range \u001b[90m(\u001b[39m\u001b[36m\u001b[1mmin\u001b[22m\u001b[39m … \u001b[35mmax\u001b[39m\u001b[90m):  \u001b[39m\u001b[36m\u001b[1m36.141 ms\u001b[22m\u001b[39m … \u001b[35m36.480 ms\u001b[39m  \u001b[90m┊\u001b[39m GC \u001b[90m(\u001b[39mmin … max\u001b[90m): \u001b[39m0.00% … 0.00%\n",
       " Time  \u001b[90m(\u001b[39m\u001b[34m\u001b[1mmedian\u001b[22m\u001b[39m\u001b[90m):     \u001b[39m\u001b[34m\u001b[1m36.180 ms              \u001b[22m\u001b[39m\u001b[90m┊\u001b[39m GC \u001b[90m(\u001b[39mmedian\u001b[90m):    \u001b[39m0.00%\n",
       " Time  \u001b[90m(\u001b[39m\u001b[32m\u001b[1mmean\u001b[22m\u001b[39m ± \u001b[32mσ\u001b[39m\u001b[90m):   \u001b[39m\u001b[32m\u001b[1m36.187 ms\u001b[22m\u001b[39m ± \u001b[32m38.037 μs\u001b[39m  \u001b[90m┊\u001b[39m GC \u001b[90m(\u001b[39mmean ± σ\u001b[90m):  \u001b[39m0.00% ± 0.00%\n",
       "\n",
       "  \u001b[39m \u001b[39m \u001b[39m \u001b[39m \u001b[39m \u001b[39m \u001b[39m \u001b[39m▂\u001b[39m \u001b[39m▇\u001b[39m \u001b[39m▄\u001b[39m▆\u001b[34m█\u001b[39m\u001b[39m \u001b[39m \u001b[32m \u001b[39m\u001b[39m \u001b[39m \u001b[39m \u001b[39m \u001b[39m \u001b[39m \u001b[39m \u001b[39m \u001b[39m \u001b[39m \u001b[39m \u001b[39m \u001b[39m \u001b[39m \u001b[39m \u001b[39m \u001b[39m \u001b[39m \u001b[39m \u001b[39m \u001b[39m \u001b[39m \u001b[39m \u001b[39m \u001b[39m \u001b[39m \u001b[39m \u001b[39m \u001b[39m \u001b[39m \u001b[39m \u001b[39m \u001b[39m \u001b[39m \u001b[39m \u001b[39m \u001b[39m \u001b[39m \u001b[39m \u001b[39m \u001b[39m \u001b[39m \u001b[39m \u001b[39m \n",
       "  \u001b[39m▄\u001b[39m▃\u001b[39m▅\u001b[39m▆\u001b[39m▆\u001b[39m▄\u001b[39m▄\u001b[39m█\u001b[39m▇\u001b[39m█\u001b[39m▆\u001b[39m█\u001b[39m█\u001b[34m█\u001b[39m\u001b[39m▇\u001b[39m▆\u001b[32m▃\u001b[39m\u001b[39m▇\u001b[39m█\u001b[39m█\u001b[39m▇\u001b[39m▅\u001b[39m▅\u001b[39m▆\u001b[39m▇\u001b[39m▆\u001b[39m▃\u001b[39m▃\u001b[39m▁\u001b[39m▁\u001b[39m▁\u001b[39m▁\u001b[39m▁\u001b[39m▁\u001b[39m▁\u001b[39m▁\u001b[39m▁\u001b[39m▁\u001b[39m▁\u001b[39m▁\u001b[39m▃\u001b[39m▁\u001b[39m▁\u001b[39m▁\u001b[39m▁\u001b[39m▃\u001b[39m▁\u001b[39m▁\u001b[39m▁\u001b[39m▄\u001b[39m▁\u001b[39m▁\u001b[39m▁\u001b[39m▁\u001b[39m▁\u001b[39m▁\u001b[39m▁\u001b[39m▃\u001b[39m▃\u001b[39m \u001b[39m▃\n",
       "  36.1 ms\u001b[90m         Histogram: frequency by time\u001b[39m        36.3 ms \u001b[0m\u001b[1m<\u001b[22m\n",
       "\n",
       " Memory estimate\u001b[90m: \u001b[39m\u001b[33m114.16 KiB\u001b[39m, allocs estimate\u001b[90m: \u001b[39m\u001b[33m2091\u001b[39m."
      ]
     },
     "metadata": {},
     "output_type": "display_data"
    },
    {
     "data": {
      "text/plain": [
       "42.836672630255215"
      ]
     },
     "execution_count": 17,
     "metadata": {},
     "output_type": "execute_result"
    }
   ],
   "source": [
    "function pi_string_threads_static(N)\n",
    "    digits = Vector{Int}(undef, N)\n",
    "    @threads :static for n in eachindex(digits)\n",
    "        digits[n] = pi_digit(n)\n",
    "    end\n",
    "    return \"0x3.\" * join(string.(digits, base = 16)) * \"p0\"\n",
    "end\n",
    "\n",
    "@assert pi_string_threads_static(N_pi) == pi_string(N_pi)\n",
    "\n",
    "b = @benchmark pi_string_threads_static(N_pi)\n",
    "\n",
    "pi_threads_static_t = minimum(b.times)\n",
    "\n",
    "display(b)\n",
    "\n",
    "pi_serial_t / pi_threads_static_t / nthreads() * 100"
   ]
  },
  {
   "cell_type": "markdown",
   "id": "7892a693-4aa8-4ab0-8582-985bdf20cc23",
   "metadata": {},
   "source": [
    "#### For-loop: dynamic scheduler"
   ]
  },
  {
   "cell_type": "code",
   "execution_count": 18,
   "id": "3e6c85a7-89fa-4afe-96f7-3c1dc5c99193",
   "metadata": {
    "tags": []
   },
   "outputs": [
    {
     "data": {
      "text/plain": [
       "BenchmarkTools.Trial: 138 samples with 1 evaluation.\n",
       " Range \u001b[90m(\u001b[39m\u001b[36m\u001b[1mmin\u001b[22m\u001b[39m … \u001b[35mmax\u001b[39m\u001b[90m):  \u001b[39m\u001b[36m\u001b[1m36.138 ms\u001b[22m\u001b[39m … \u001b[35m 37.668 ms\u001b[39m  \u001b[90m┊\u001b[39m GC \u001b[90m(\u001b[39mmin … max\u001b[90m): \u001b[39m0.00% … 0.00%\n",
       " Time  \u001b[90m(\u001b[39m\u001b[34m\u001b[1mmedian\u001b[22m\u001b[39m\u001b[90m):     \u001b[39m\u001b[34m\u001b[1m36.194 ms               \u001b[22m\u001b[39m\u001b[90m┊\u001b[39m GC \u001b[90m(\u001b[39mmedian\u001b[90m):    \u001b[39m0.00%\n",
       " Time  \u001b[90m(\u001b[39m\u001b[32m\u001b[1mmean\u001b[22m\u001b[39m ± \u001b[32mσ\u001b[39m\u001b[90m):   \u001b[39m\u001b[32m\u001b[1m36.265 ms\u001b[22m\u001b[39m ± \u001b[32m186.407 μs\u001b[39m  \u001b[90m┊\u001b[39m GC \u001b[90m(\u001b[39mmean ± σ\u001b[90m):  \u001b[39m0.00% ± 0.00%\n",
       "\n",
       "  \u001b[39m \u001b[39m \u001b[39m▁\u001b[39m█\u001b[39m▇\u001b[34m▆\u001b[39m\u001b[39m \u001b[39m \u001b[39m \u001b[39m \u001b[39m \u001b[32m \u001b[39m\u001b[39m \u001b[39m \u001b[39m \u001b[39m \u001b[39m \u001b[39m \u001b[39m \u001b[39m \u001b[39m \u001b[39m \u001b[39m \u001b[39m \u001b[39m \u001b[39m \u001b[39m \u001b[39m \u001b[39m \u001b[39m \u001b[39m \u001b[39m \u001b[39m \u001b[39m \u001b[39m \u001b[39m \u001b[39m \u001b[39m \u001b[39m \u001b[39m \u001b[39m \u001b[39m \u001b[39m \u001b[39m \u001b[39m \u001b[39m \u001b[39m \u001b[39m \u001b[39m \u001b[39m \u001b[39m \u001b[39m \u001b[39m \u001b[39m \u001b[39m \u001b[39m \u001b[39m \u001b[39m \u001b[39m \u001b[39m \u001b[39m \u001b[39m \n",
       "  \u001b[39m▄\u001b[39m▇\u001b[39m█\u001b[39m█\u001b[39m█\u001b[34m█\u001b[39m\u001b[39m▆\u001b[39m▃\u001b[39m▄\u001b[39m▃\u001b[39m▁\u001b[32m▃\u001b[39m\u001b[39m▃\u001b[39m▃\u001b[39m▅\u001b[39m▁\u001b[39m▃\u001b[39m▄\u001b[39m▁\u001b[39m▃\u001b[39m▁\u001b[39m▃\u001b[39m▁\u001b[39m▁\u001b[39m▁\u001b[39m▄\u001b[39m▃\u001b[39m▁\u001b[39m▃\u001b[39m▁\u001b[39m▃\u001b[39m▁\u001b[39m▃\u001b[39m▁\u001b[39m▃\u001b[39m▃\u001b[39m▁\u001b[39m▁\u001b[39m▃\u001b[39m▁\u001b[39m▁\u001b[39m▁\u001b[39m▃\u001b[39m▁\u001b[39m▁\u001b[39m▁\u001b[39m▁\u001b[39m▁\u001b[39m▃\u001b[39m▁\u001b[39m▁\u001b[39m▃\u001b[39m▃\u001b[39m▃\u001b[39m▁\u001b[39m▁\u001b[39m▁\u001b[39m▁\u001b[39m▁\u001b[39m▃\u001b[39m \u001b[39m▃\n",
       "  36.1 ms\u001b[90m         Histogram: frequency by time\u001b[39m         36.8 ms \u001b[0m\u001b[1m<\u001b[22m\n",
       "\n",
       " Memory estimate\u001b[90m: \u001b[39m\u001b[33m114.16 KiB\u001b[39m, allocs estimate\u001b[90m: \u001b[39m\u001b[33m2091\u001b[39m."
      ]
     },
     "metadata": {},
     "output_type": "display_data"
    },
    {
     "data": {
      "text/plain": [
       "42.83972490659247"
      ]
     },
     "execution_count": 18,
     "metadata": {},
     "output_type": "execute_result"
    }
   ],
   "source": [
    "function pi_string_threads_dynamic(N)\n",
    "    digits = Vector{Int}(undef, N)\n",
    "    @threads :dynamic for n in eachindex(digits)\n",
    "        digits[n] = pi_digit(n)\n",
    "    end\n",
    "    return \"0x3.\" * join(string.(digits, base = 16)) * \"p0\"\n",
    "end\n",
    "\n",
    "@assert pi_string_threads_dynamic(N_pi) == pi_string(N_pi)\n",
    "\n",
    "b = @benchmark pi_string_threads_dynamic(N_pi)\n",
    "\n",
    "pi_threads_dynamic_t = minimum(b.times)\n",
    "\n",
    "display(b)\n",
    "\n",
    "pi_serial_t / pi_threads_dynamic_t / nthreads() * 100"
   ]
  },
  {
   "cell_type": "markdown",
   "id": "52201d41-ba3b-4492-976b-74555bf8ec1d",
   "metadata": {},
   "source": [
    "#### For-loop: greedy scheduler (only Julia v1.11+)"
   ]
  },
  {
   "cell_type": "code",
   "execution_count": 19,
   "id": "8549cab0-3594-4568-bfb1-e2e8de454eac",
   "metadata": {
    "tags": []
   },
   "outputs": [],
   "source": [
    "@static if VERSION >= v\"1.11\"\n",
    "\n",
    "function pi_string_threads_greedy(N)\n",
    "    digits = Vector{Int}(undef, N)\n",
    "    @threads :greedy for n in eachindex(digits)\n",
    "        digits[n] = pi_digit(n)\n",
    "    end\n",
    "    return \"0x3.\" * join(string.(digits, base = 16)) * \"p0\"\n",
    "end\n",
    "\n",
    "@assert pi_string_threads_greedy(N_pi) == pi_string(N_pi)\n",
    "    \n",
    "b = @benchmark pi_string_threads_greedy(N_pi)\n",
    "\n",
    "pi_threads_greedy_t = minimum(b.times)\n",
    "\n",
    "display(b)\n",
    "\n",
    "pi_serial_t / pi_threads_greedy_t / nthreads() * 100\n",
    "\n",
    "end"
   ]
  },
  {
   "cell_type": "markdown",
   "id": "69a7522c-7ae4-47e3-86dd-10e5b1977bd8",
   "metadata": {},
   "source": [
    "#### Tasks"
   ]
  },
  {
   "cell_type": "code",
   "execution_count": 20,
   "id": "a8b5a4bc-31b4-4d70-aedf-89e539b69988",
   "metadata": {
    "tags": []
   },
   "outputs": [
    {
     "data": {
      "text/plain": [
       "BenchmarkTools.Trial: 282 samples with 1 evaluation.\n",
       " Range \u001b[90m(\u001b[39m\u001b[36m\u001b[1mmin\u001b[22m\u001b[39m … \u001b[35mmax\u001b[39m\u001b[90m):  \u001b[39m\u001b[36m\u001b[1m17.612 ms\u001b[22m\u001b[39m … \u001b[35m 27.506 ms\u001b[39m  \u001b[90m┊\u001b[39m GC \u001b[90m(\u001b[39mmin … max\u001b[90m): \u001b[39m0.00% … 0.00%\n",
       " Time  \u001b[90m(\u001b[39m\u001b[34m\u001b[1mmedian\u001b[22m\u001b[39m\u001b[90m):     \u001b[39m\u001b[34m\u001b[1m17.743 ms               \u001b[22m\u001b[39m\u001b[90m┊\u001b[39m GC \u001b[90m(\u001b[39mmedian\u001b[90m):    \u001b[39m0.00%\n",
       " Time  \u001b[90m(\u001b[39m\u001b[32m\u001b[1mmean\u001b[22m\u001b[39m ± \u001b[32mσ\u001b[39m\u001b[90m):   \u001b[39m\u001b[32m\u001b[1m17.781 ms\u001b[22m\u001b[39m ± \u001b[32m581.837 μs\u001b[39m  \u001b[90m┊\u001b[39m GC \u001b[90m(\u001b[39mmean ± σ\u001b[90m):  \u001b[39m0.00% ± 0.00%\n",
       "\n",
       "  \u001b[39m \u001b[39m \u001b[39m \u001b[39m \u001b[39m \u001b[39m \u001b[39m \u001b[39m \u001b[39m \u001b[39m \u001b[39m \u001b[39m \u001b[39m \u001b[39m \u001b[39m \u001b[39m \u001b[39m \u001b[39m \u001b[39m \u001b[39m \u001b[39m \u001b[39m \u001b[39m \u001b[39m \u001b[39m \u001b[39m \u001b[39m \u001b[39m \u001b[39m \u001b[39m \u001b[39m \u001b[39m \u001b[39m \u001b[39m▂\u001b[39m█\u001b[39m▃\u001b[39m▆\u001b[39m▂\u001b[34m▂\u001b[39m\u001b[39m▅\u001b[39m▃\u001b[39m \u001b[39m▄\u001b[39m \u001b[39m \u001b[39m \u001b[39m \u001b[39m \u001b[39m \u001b[32m \u001b[39m\u001b[39m \u001b[39m \u001b[39m \u001b[39m \u001b[39m \u001b[39m \u001b[39m \u001b[39m \u001b[39m \u001b[39m \u001b[39m \u001b[39m \n",
       "  \u001b[39m▂\u001b[39m▁\u001b[39m▁\u001b[39m▂\u001b[39m▁\u001b[39m▁\u001b[39m▁\u001b[39m▁\u001b[39m▁\u001b[39m▁\u001b[39m▁\u001b[39m▁\u001b[39m▁\u001b[39m▁\u001b[39m▁\u001b[39m▁\u001b[39m▁\u001b[39m▁\u001b[39m▁\u001b[39m▁\u001b[39m▁\u001b[39m▁\u001b[39m▁\u001b[39m▁\u001b[39m▁\u001b[39m▂\u001b[39m▁\u001b[39m▂\u001b[39m▁\u001b[39m▃\u001b[39m▄\u001b[39m▆\u001b[39m▆\u001b[39m█\u001b[39m█\u001b[39m█\u001b[39m█\u001b[39m█\u001b[34m█\u001b[39m\u001b[39m█\u001b[39m█\u001b[39m▇\u001b[39m█\u001b[39m█\u001b[39m▆\u001b[39m▃\u001b[39m▅\u001b[39m▃\u001b[39m▄\u001b[32m▃\u001b[39m\u001b[39m▄\u001b[39m▁\u001b[39m▂\u001b[39m▃\u001b[39m▃\u001b[39m▂\u001b[39m▁\u001b[39m▁\u001b[39m▃\u001b[39m▂\u001b[39m \u001b[39m▃\n",
       "  17.6 ms\u001b[90m         Histogram: frequency by time\u001b[39m         17.8 ms \u001b[0m\u001b[1m<\u001b[22m\n",
       "\n",
       " Memory estimate\u001b[90m: \u001b[39m\u001b[33m598.48 KiB\u001b[39m, allocs estimate\u001b[90m: \u001b[39m\u001b[33m7017\u001b[39m."
      ]
     },
     "metadata": {},
     "output_type": "display_data"
    },
    {
     "data": {
      "text/plain": [
       "87.90555239444942"
      ]
     },
     "execution_count": 20,
     "metadata": {},
     "output_type": "execute_result"
    }
   ],
   "source": [
    "function pi_string_tasks(N)\n",
    "    tasks = [Threads.@spawn pi_digit(n) for n in 1:N]\n",
    "    digits = [fetch(t) for t in tasks]\n",
    "    return \"0x3.\" * join(string.(digits, base = 16)) * \"p0\"\n",
    "end\n",
    "\n",
    "@assert pi_string_tasks(N_pi) == pi_string(N_pi)\n",
    "\n",
    "b = @benchmark pi_string_tasks(N_pi)\n",
    "\n",
    "pi_tasks_t = minimum(b.times)\n",
    "\n",
    "display(b)\n",
    "\n",
    "pi_serial_t / pi_tasks_t / nthreads() * 100"
   ]
  },
  {
   "cell_type": "markdown",
   "id": "d364c813-1f97-4aad-9207-a140126092a1",
   "metadata": {},
   "source": [
    "#### OhMyThreads.jl"
   ]
  },
  {
   "cell_type": "code",
   "execution_count": 21,
   "id": "939ed6ed-ca43-4c39-a364-61563b757528",
   "metadata": {
    "tags": []
   },
   "outputs": [
    {
     "data": {
      "text/plain": [
       "BenchmarkTools.Trial: 282 samples with 1 evaluation.\n",
       " Range \u001b[90m(\u001b[39m\u001b[36m\u001b[1mmin\u001b[22m\u001b[39m … \u001b[35mmax\u001b[39m\u001b[90m):  \u001b[39m\u001b[36m\u001b[1m17.629 ms\u001b[22m\u001b[39m … \u001b[35m18.014 ms\u001b[39m  \u001b[90m┊\u001b[39m GC \u001b[90m(\u001b[39mmin … max\u001b[90m): \u001b[39m0.00% … 0.00%\n",
       " Time  \u001b[90m(\u001b[39m\u001b[34m\u001b[1mmedian\u001b[22m\u001b[39m\u001b[90m):     \u001b[39m\u001b[34m\u001b[1m17.772 ms              \u001b[22m\u001b[39m\u001b[90m┊\u001b[39m GC \u001b[90m(\u001b[39mmedian\u001b[90m):    \u001b[39m0.00%\n",
       " Time  \u001b[90m(\u001b[39m\u001b[32m\u001b[1mmean\u001b[22m\u001b[39m ± \u001b[32mσ\u001b[39m\u001b[90m):   \u001b[39m\u001b[32m\u001b[1m17.773 ms\u001b[22m\u001b[39m ± \u001b[32m54.271 μs\u001b[39m  \u001b[90m┊\u001b[39m GC \u001b[90m(\u001b[39mmean ± σ\u001b[90m):  \u001b[39m0.00% ± 0.00%\n",
       "\n",
       "  \u001b[39m \u001b[39m \u001b[39m \u001b[39m \u001b[39m \u001b[39m \u001b[39m \u001b[39m \u001b[39m \u001b[39m \u001b[39m \u001b[39m \u001b[39m \u001b[39m \u001b[39m \u001b[39m \u001b[39m \u001b[39m \u001b[39m \u001b[39m▂\u001b[39m▂\u001b[39m \u001b[39m \u001b[39m \u001b[39m \u001b[39m \u001b[39m▆\u001b[39m▂\u001b[39m▂\u001b[39m▅\u001b[39m \u001b[39m█\u001b[34m▇\u001b[39m\u001b[39m \u001b[39m▂\u001b[39m▂\u001b[39m \u001b[39m▁\u001b[39m▃\u001b[39m \u001b[39m▁\u001b[39m▃\u001b[39m \u001b[39m▁\u001b[39m \u001b[39m \u001b[39m▁\u001b[39m▁\u001b[39m \u001b[39m \u001b[39m \u001b[39m \u001b[39m \u001b[39m \u001b[39m \u001b[39m \u001b[39m \u001b[39m \u001b[39m \u001b[39m \u001b[39m \n",
       "  \u001b[39m▃\u001b[39m▁\u001b[39m▁\u001b[39m▃\u001b[39m▁\u001b[39m▃\u001b[39m▃\u001b[39m▄\u001b[39m▃\u001b[39m▁\u001b[39m▅\u001b[39m▃\u001b[39m▄\u001b[39m▅\u001b[39m▇\u001b[39m▆\u001b[39m▇\u001b[39m▆\u001b[39m▄\u001b[39m█\u001b[39m█\u001b[39m█\u001b[39m▅\u001b[39m█\u001b[39m▇\u001b[39m█\u001b[39m█\u001b[39m█\u001b[39m█\u001b[39m█\u001b[39m▇\u001b[39m█\u001b[34m█\u001b[39m\u001b[39m▇\u001b[39m█\u001b[39m█\u001b[39m▇\u001b[39m█\u001b[39m█\u001b[39m▇\u001b[39m█\u001b[39m█\u001b[39m▅\u001b[39m█\u001b[39m▅\u001b[39m▄\u001b[39m█\u001b[39m█\u001b[39m▇\u001b[39m▆\u001b[39m▅\u001b[39m▃\u001b[39m▄\u001b[39m▅\u001b[39m▃\u001b[39m▃\u001b[39m▃\u001b[39m▄\u001b[39m▃\u001b[39m \u001b[39m▄\n",
       "  17.6 ms\u001b[90m         Histogram: frequency by time\u001b[39m        17.9 ms \u001b[0m\u001b[1m<\u001b[22m\n",
       "\n",
       " Memory estimate\u001b[90m: \u001b[39m\u001b[33m382.39 KiB\u001b[39m, allocs estimate\u001b[90m: \u001b[39m\u001b[33m5094\u001b[39m."
      ]
     },
     "metadata": {},
     "output_type": "display_data"
    },
    {
     "data": {
      "text/plain": [
       "87.81962078092401"
      ]
     },
     "execution_count": 21,
     "metadata": {},
     "output_type": "execute_result"
    }
   ],
   "source": [
    "using OhMyThreads: @tasks\n",
    "\n",
    "function pi_string_omt(N; ntasks::Int=8 * nthreads(), scheduler::Symbol=:dynamic)\n",
    "    digits = Vector{Int}(undef, N)\n",
    "    @tasks for n in eachindex(digits)\n",
    "        @set ntasks=ntasks\n",
    "        @set scheduler=scheduler\n",
    "        digits[n] = pi_digit(n)\n",
    "    end\n",
    "    return \"0x3.\" * join(string.(digits, base = 16)) * \"p0\"\n",
    "end\n",
    "\n",
    "@assert pi_string_omt(N_pi) == pi_string(N_pi)\n",
    "\n",
    "b = @benchmark pi_string_omt(N_pi; ntasks=32 * nthreads())\n",
    "\n",
    "pi_omt_t = minimum(b.times)\n",
    "\n",
    "display(b)\n",
    "\n",
    "pi_serial_t / pi_omt_t / nthreads() * 100"
   ]
  }
 ],
 "metadata": {
  "kernelspec": {
   "display_name": "Julia Tutorial Multi Threaded",
   "language": "julia",
   "name": "julia-tutorial-multi-threaded"
  },
  "language_info": {
   "file_extension": ".jl",
   "mimetype": "application/julia",
   "name": "julia",
   "version": "1.10.4"
  }
 },
 "nbformat": 4,
 "nbformat_minor": 5
}
