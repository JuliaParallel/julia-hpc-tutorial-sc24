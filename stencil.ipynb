{
 "cells": [
  {
   "cell_type": "markdown",
   "metadata": {},
   "source": [
    "# Stencil Computation for 2D Heat Diffusion Simulation Using Julia "
   ]
  },
  {
   "cell_type": "code",
   "execution_count": null,
   "metadata": {},
   "outputs": [],
   "source": [
    "#using Pkg\n",
    "#Pkg.add(\"CUDA\")"
   ]
  },
  {
   "cell_type": "code",
   "execution_count": null,
   "metadata": {},
   "outputs": [],
   "source": [
    "#import Pkg; \n",
    "#Pkg.add(\"BenchmarkTools\")"
   ]
  },
  {
   "cell_type": "code",
   "execution_count": 12,
   "metadata": {},
   "outputs": [
    {
     "name": "stderr",
     "output_type": "stream",
     "text": [
      "\u001b[32m\u001b[1m   Resolving\u001b[22m\u001b[39m package versions...\n",
      "\u001b[32m\u001b[1m    Updating\u001b[22m\u001b[39m `~/Julia_rabab/SC24/Project.toml`\n",
      "  \u001b[90m[92933f4c] \u001b[39m\u001b[92m+ ProgressMeter v1.10.2\u001b[39m\n",
      "\u001b[32m\u001b[1m    Updating\u001b[22m\u001b[39m `~/Julia_rabab/SC24/Manifest.toml`\n",
      "  \u001b[90m[92933f4c] \u001b[39m\u001b[92m+ ProgressMeter v1.10.2\u001b[39m\n",
      "  \u001b[90m[8ba89e20] \u001b[39m\u001b[92m+ Distributed v1.11.0\u001b[39m\n"
     ]
    }
   ],
   "source": [
    "#import Pkg; \n",
    "#Pkg.add(\"ProgressMeter\")"
   ]
  },
  {
   "cell_type": "code",
   "execution_count": 5,
   "metadata": {},
   "outputs": [
    {
     "name": "stderr",
     "output_type": "stream",
     "text": [
      "\u001b[32m\u001b[1m   Resolving\u001b[22m\u001b[39m package versions...\n",
      "\u001b[32m\u001b[1m  No Changes\u001b[22m\u001b[39m to `~/Julia_rabab/SC24/Project.toml`\n",
      "\u001b[32m\u001b[1m  No Changes\u001b[22m\u001b[39m to `~/Julia_rabab/SC24/Manifest.toml`\n"
     ]
    }
   ],
   "source": [
    "#import Pkg; \n",
    "#Pkg.add(\"Plots\")"
   ]
  },
  {
   "cell_type": "code",
   "execution_count": 1,
   "metadata": {},
   "outputs": [],
   "source": [
    "using CUDA"
   ]
  },
  {
   "cell_type": "code",
   "execution_count": 2,
   "metadata": {},
   "outputs": [],
   "source": [
    "using BenchmarkTools"
   ]
  },
  {
   "cell_type": "code",
   "execution_count": 3,
   "metadata": {},
   "outputs": [],
   "source": [
    "using ProgressMeter"
   ]
  },
  {
   "cell_type": "markdown",
   "metadata": {},
   "source": [
    "In CUDA.jl check if the package is functional, you can call the `versioninfo()` function. Like `Base.versioninfo()`, this will print some information on the available hardware and loaded libraries:"
   ]
  },
  {
   "cell_type": "code",
   "execution_count": 4,
   "metadata": {},
   "outputs": [
    {
     "name": "stdout",
     "output_type": "stream",
     "text": [
      "CUDA runtime 11.8, artifact installation\n",
      "CUDA driver 11.8\n",
      "NVIDIA driver 520.61.5\n",
      "\n",
      "CUDA libraries: \n",
      "- CUBLAS: 11.11.3\n",
      "- CURAND: 10.3.0\n",
      "- CUFFT: 10.9.0\n",
      "- CUSOLVER: 11.4.1\n",
      "- CUSPARSE: 11.7.5\n",
      "- CUPTI: 2022.3.0 (API 18.0.0)\n",
      "- NVML: 11.0.0+520.61.5\n",
      "\n",
      "Julia packages: \n",
      "- CUDA: 5.4.3\n",
      "- CUDA_Driver_jll: 0.9.1+1\n",
      "- CUDA_Runtime_jll: 0.14.1+0\n",
      "\n",
      "Toolchain:\n",
      "- Julia: 1.11.1\n",
      "- LLVM: 16.0.6\n",
      "\n",
      "2 devices:\n",
      "  0: Tesla V100-PCIE-16GB (sm_70, 15.778 GiB / 16.000 GiB available)\n",
      "  1: Tesla V100-PCIE-16GB (sm_70, 15.778 GiB / 16.000 GiB available)\n"
     ]
    }
   ],
   "source": [
    "CUDA.versioninfo()"
   ]
  },
  {
   "cell_type": "markdown",
   "metadata": {},
   "source": [
    "# Stencil Computation"
   ]
  },
  {
   "cell_type": "markdown",
   "metadata": {},
   "source": [
    "# 2D Stencil Computation and the Heat Equation\n",
    "\n",
    "In computational science, stencil computations are a common method for solving partial differential equations (PDEs) like the heat equation. The heat equation in two dimensions models the distribution of heat (or temperature) in a region over time. It is defined by:\n",
    "\n",
    "$$\n",
    "\\frac{\\partial u}{\\partial t} = \\alpha \\left( \\frac{\\partial^2 u}{\\partial x^2} + \\frac{\\partial^2 u}{\\partial y^2} \\right)\n",
    "$$\n",
    "\n",
    "where:\n",
    "- $u(x, y, t)$ represents the temperature at location $(x, y)$ and time $t$,\n",
    "- $ \\alpha $ is the thermal diffusivity constant of the material.\n",
    "\n",
    "To numerically approximate this equation, we discretize both time and space, creating a grid over which we compute temperature values at each grid point for successive time steps. A common approach is to use a finite-difference stencil method, specifically a 5-point stencil in 2D. For spatial discretization, this involves a simple update rule that incorporates the values of \\( u \\) at neighboring points.\n",
    "\n",
    "## Discretization in 2D\n",
    "\n",
    "Let:\n",
    "- $ \\Delta x$ and $ \\Delta y$ be the spatial steps in the $ x$- and $y$-directions, respectively.\n",
    "- $ \\Delta t$ be the time step.\n",
    "\n",
    "Using the central difference approximation for the spatial derivatives, we can approximate the heat equation at each grid point \\((i, j)\\) as:\n",
    "\n",
    "$$\n",
    "\\frac{u_{i,j}^{n+1} - u_{i,j}^{n}}{\\Delta t} = \\alpha \\left( \\frac{u_{i+1,j}^{n} - 2u_{i,j}^{n} + u_{i-1,j}^{n}}{\\Delta x^2} + \\frac{u_{i,j+1}^{n} - 2u_{i,j}^{n} + u_{i,j-1}^{n}}{\\Delta y^2} \\right)\n",
    "$$\n",
    "\n",
    "This equation can be rearranged to give the explicit update rule:\n",
    "\n",
    "$$\n",
    "u_{i,j}^{n+1} = u_{i,j}^{n} + \\alpha \\Delta t \\left( \\frac{u_{i+1,j}^{n} - 2u_{i,j}^{n} + u_{i-1,j}^{n}}{\\Delta x^2} + \\frac{u_{i,j+1}^{n} - 2u_{i,j}^{n} + u_{i,j-1}^{n}}{\\Delta y^2} \\right)\n",
    "$$\n",
    "\n",
    "## Explanation\n",
    "\n",
    "In this formulation, the temperature at each grid point $(i, j)$ is updated by taking into account its own value and the values of its immediate neighbors in both the \\( x \\)- and \\( y \\)-directions. This is the essence of a 5-point stencil, where each point depends on its surrounding points, creating a pattern resembling a \"plus\" shape.\n",
    "\n",
    "By iterating this update rule over successive time steps, the heat equation's behavior in 2D space can be simulated, demonstrating how heat spreads out from regions of high temperature to cooler areas, resulting in a smooth temperature distribution over time. This approach can be efficiently implemented in computational algorithms and forms the basis for more advanced simulations in fields like physics, engineering, and climate modeling.\n"
   ]
  },
  {
   "cell_type": "markdown",
   "metadata": {},
   "source": [
    "## Parameters settings to heat diffusion problem"
   ]
  },
  {
   "cell_type": "code",
   "execution_count": 7,
   "metadata": {},
   "outputs": [
    {
     "data": {
      "text/plain": [
       "500"
      ]
     },
     "metadata": {},
     "output_type": "display_data"
    }
   ],
   "source": [
    "\n",
    "# Grid spacing, distance between cels in the grid along the x-axis (dx) and y-axis (dy),  \n",
    "#Small distance likely indicates a high-resolution simulation.\n",
    "dx = 0.01\n",
    "dy = 0.01\n",
    "# Default temperatures\n",
    "tdisc  = 5.0\n",
    "tarea = 65.0\n",
    "tupper = 85.0\n",
    "tlower = 5.0\n",
    "tleft = 20.0\n",
    "tright = 70.0\n",
    "\n",
    "# Default problem size\n",
    "nx = 10240\n",
    "ny = 10240\n",
    "nsteps = 500"
   ]
  },
  {
   "cell_type": "code",
   "execution_count": 8,
   "metadata": {},
   "outputs": [
    {
     "data": {
      "text/plain": [
       "Field"
      ]
     },
     "metadata": {},
     "output_type": "display_data"
    }
   ],
   "source": [
    "\"\"\"\n",
    "    Field(nx::Int64, ny::Int64, dx::Float64, dy::Float64, data::Matrix{Float64})\n",
    "\n",
    "Temperature field type. nx and ny are the dimensions of the field. \n",
    "The array data contains also ghost layers, so it will have dimensions \n",
    "[nx+2, ny+2]\n",
    "\"\"\"\n",
    "mutable struct Field{T<:AbstractArray}\n",
    "    nx::Int64 # The number of grid cells in the x-direction.\n",
    "    ny::Int64 # The number of grid cells in the y-direction.\n",
    "    dx::Float64 # The size of each grid cell in the x-direction.\n",
    "    dy::Float64 # The size of each grid cell in the y-direction.\n",
    "    data::T # A 2D array storing the temperature values across the grid, including ghost layers.\n",
    "end"
   ]
  },
  {
   "cell_type": "code",
   "execution_count": 9,
   "metadata": {},
   "outputs": [
    {
     "data": {
      "text/plain": [
       "Field"
      ]
     },
     "metadata": {},
     "output_type": "display_data"
    }
   ],
   "source": [
    "# outer constructor with default cell sizes and initialized data\n",
    "Field(nx::Int64, ny::Int64, data) = Field{typeof(data)}(nx, ny, 0.01, 0.01, data)"
   ]
  },
  {
   "cell_type": "code",
   "execution_count": 10,
   "metadata": {},
   "outputs": [],
   "source": [
    "# extend deepcopy to new type\n",
    "Base.deepcopy(f::Field) = Field(f.nx, f.ny, f.dx, f.dy, deepcopy(f.data))"
   ]
  },
  {
   "cell_type": "code",
   "execution_count": 11,
   "metadata": {},
   "outputs": [
    {
     "data": {
      "text/plain": [
       "initialize"
      ]
     },
     "metadata": {},
     "output_type": "display_data"
    }
   ],
   "source": [
    "\"\"\"\n",
    "    initialize(nx::Int, ny::Int, arraytype = Matrix)\n",
    "\n",
    "The initialize function provided is designed to set up an initial state for \n",
    "a simulation by creating two fields, previous and current, which hold the initial \n",
    "temperature distributions along with boundary conditions.\n",
    "\"\"\"\n",
    "function initialize(nx = 1000, ny = 1000, arraytype = Matrix)\n",
    "\n",
    "    data = zeros(nx+2, ny+2)\n",
    "    \n",
    "    # generate a field with boundary conditions\n",
    "    # in GPU, you can generate the field in cpu then you can move it to gpu\n",
    "    if arraytype != Matrix\n",
    "        tmp = Field(nx, ny, data)\n",
    "        generate_field!(tmp)\n",
    "        gpudata = arraytype(tmp.data)\n",
    "        previous = Field(nx, ny, gpudata)\n",
    "    else\n",
    "        previous = Field(nx, ny, data)\n",
    "        generate_field!(previous)\n",
    "    end\n",
    "    \n",
    "    current = Base.deepcopy(previous)\n",
    "\n",
    "    return previous, current\n",
    "end"
   ]
  },
  {
   "cell_type": "code",
   "execution_count": 12,
   "metadata": {},
   "outputs": [
    {
     "data": {
      "text/plain": [
       "generate_field!"
      ]
     },
     "metadata": {},
     "output_type": "display_data"
    }
   ],
   "source": [
    "\"\"\"\n",
    "    generate_field!(field0::Field)\n",
    "\n",
    "Generate a temperature field.  Pattern is disc with a radius\n",
    "of nx / 6 in the center of the grid. Boundary conditions are \n",
    "(different) constant temperatures outside the grid.\n",
    "\"\"\"\n",
    "function generate_field!(field::Field)\n",
    "    # Square of the disk radius\n",
    "    #calculates the square of the radius of a disc to be placed in the center of the grid. \n",
    "    #The radius is one-sixth of the grid width (field.nx). \n",
    "    #Squaring this value simplifies distance comparisons in the subsequent loop.\n",
    "    radius2 = (field.nx / 6.0)^2 \n",
    "\n",
    "    for j = 1:field.ny+2\n",
    "        for i = 1:field.nx+2\n",
    "            ds2 = (i - field.nx / 2)^2 + (j - field.ny / 2)^2\n",
    "            if ds2 < radius2 \n",
    "                field.data[i,j] = tdisc\n",
    "            else\n",
    "                field.data[i,j] = tarea\n",
    "            end\n",
    "        end \n",
    "    end \n",
    "\n",
    "    # Boundary conditions\n",
    "    field.data[:,1] .= tleft\n",
    "    field.data[:,field.ny+2] .= tright\n",
    "    field.data[1,:] .= tupper\n",
    "    field.data[field.nx+2,:] .= tlower\n",
    "end\n"
   ]
  },
  {
   "cell_type": "code",
   "execution_count": 13,
   "metadata": {},
   "outputs": [
    {
     "data": {
      "text/plain": [
       "swap_fields!"
      ]
     },
     "metadata": {},
     "output_type": "display_data"
    }
   ],
   "source": [
    "\"\"\"\n",
    "    swap_fields!(curr::Field, prev::Field)\n",
    "\n",
    "Swap the data of two fields curr and prev.    \n",
    "\"\"\"    \n",
    "function swap_fields!(curr::Field, prev::Field)\n",
    "    tmp = curr.data\n",
    "    curr.data = prev.data\n",
    "    prev.data = tmp\n",
    "end\n"
   ]
  },
  {
   "cell_type": "code",
   "execution_count": 14,
   "metadata": {},
   "outputs": [
    {
     "data": {
      "text/plain": [
       "average_temperature"
      ]
     },
     "metadata": {},
     "output_type": "display_data"
    }
   ],
   "source": [
    "\"\"\" \n",
    "    average_temperature(f::Field)\n",
    "\n",
    "Calculate average temperature of a temperature field.        \n",
    "\"\"\"\n",
    "average_temperature(f::Field) = sum(f.data[2:f.nx+1, 2:f.ny+1]) / (f.nx * f.ny)"
   ]
  },
  {
   "cell_type": "markdown",
   "metadata": {},
   "source": [
    "## CPU Implementation of the Discretized Heat Equation"
   ]
  },
  {
   "cell_type": "code",
   "execution_count": 15,
   "metadata": {},
   "outputs": [
    {
     "data": {
      "text/plain": [
       "calculate_cpu!"
      ]
     },
     "metadata": {},
     "output_type": "display_data"
    }
   ],
   "source": [
    "\"\"\"\n",
    "    calculate_cpu!(currdata, prevdata, dx2, dy2, nx, ny, a, dt, curr, prev)\n",
    "\n",
    "Calculate a new temperature field curr (current field)\n",
    "based on the previous (previous field) field prev based \n",
    "on a discretized form of the heat equation. α is the \n",
    "thermal diffusivity constant and dt is the largest stable time step.    \n",
    "\n",
    "This is typical implementation of the explicit time-stepping method \n",
    "for solving partial differential equations like the heat equation \n",
    "in a discretized space. It assumes a uniform grid and uses central \n",
    "differences to approximate derivatives.\n",
    "\n",
    "\"\"\"\n",
    "function calculate_cpu!(currdata, prevdata, dx2, dy2, nx, ny, α, dt)\n",
    "\n",
    "    \"\"\"\n",
    "    Threads.@threads for j = 2:curr.ny+1: This loop is parallelized using \n",
    "    Julia's threading capabilities, iterating over the grid rows except \n",
    "    the ghost layers (outermost rows and columns). Each thread processes \n",
    "    a subset of the grid rows, improving performance on multi-core systems.\n",
    "    \"\"\"\n",
    "    Threads.@threads for j = 2:ny+1\n",
    "        for i = 2:nx+1\n",
    "            #computing a second-order central difference scheme for both the x and y derivatives\n",
    "            @inbounds xderiv = (prevdata[i-1, j] - 2.0 * prevdata[i, j] + prevdata[i+1, j]) / dx2\n",
    "            @inbounds yderiv = (prevdata[i, j-1] - 2.0 * prevdata[i, j] + prevdata[i, j+1]) / dy2\n",
    "            @inbounds currdata[i, j] = prevdata[i, j] + α * dt * (xderiv + yderiv)\n",
    "        end \n",
    "    end\n",
    "end"
   ]
  },
  {
   "cell_type": "code",
   "execution_count": 16,
   "metadata": {},
   "outputs": [
    {
     "data": {
      "text/plain": [
       "simulate_cpu!"
      ]
     },
     "metadata": {},
     "output_type": "display_data"
    }
   ],
   "source": [
    "\"\"\"\n",
    "    simulate!(current, previous, nsteps)\n",
    "\n",
    "simulate the evolution of a temperature field over a specified number of time steps using a heat diffusion model.\n",
    "\n",
    "\"\"\"\n",
    "function simulate_cpu!(curr::Field, prev::Field, nsteps)\n",
    "\n",
    "    println(\"Initial average temperature: $(average_temperature(curr))\")\n",
    "\n",
    "    # Diffusion constant, which affects how rapidly temperature spreads through the medium.\n",
    "    α = 0.5\n",
    "    # Largest stable time step. \n",
    "    # This formula ensures that the time step is within a stable range for the numerical scheme \n",
    "    #used (typically derived from a stability analysis for the discretized differential equation)\n",
    "    dt = curr.dx^2 * curr.dy^2 / (2.0 *  α * (curr.dx^2 + curr.dy^2))\n",
    "    \n",
    "    # display a nice progress bar\n",
    "    p = Progress(nsteps)\n",
    "\n",
    "    for i = 1:nsteps\n",
    "        # calculate new state based on previous state\n",
    "        calculate_cpu!(curr.data, prev.data, curr.dx^2, curr.dy^2, nx, ny, α, dt)\n",
    "\n",
    "        # swap current and previous fields\n",
    "        swap_fields!(curr, prev)\n",
    "\n",
    "        # increment the progress bar\n",
    "        next!(p)\n",
    "    end \n",
    "\n",
    "    # print final average temperature\n",
    "    println(\"Final average temperature: $(average_temperature(curr))\")\n",
    "end"
   ]
  },
  {
   "cell_type": "code",
   "execution_count": 17,
   "metadata": {},
   "outputs": [
    {
     "data": {
      "text/plain": [
       "(Field{Matrix{Float64}}(10240, 10240, 0.01, 0.01, [85.0 85.0 … 85.0 85.0; 20.0 65.0 … 65.0 70.0; … ; 20.0 65.0 … 65.0 70.0; 5.0 5.0 … 5.0 5.0]), Field{Matrix{Float64}}(10240, 10240, 0.01, 0.01, [85.0 85.0 … 85.0 85.0; 20.0 65.0 … 65.0 70.0; … ; 20.0 65.0 … 65.0 70.0; 5.0 5.0 … 5.0 5.0]))"
      ]
     },
     "metadata": {},
     "output_type": "display_data"
    }
   ],
   "source": [
    "# initialize current and previous states to the same state\n",
    "curr, prev = initialize(nx, ny)"
   ]
  },
  {
   "cell_type": "code",
   "execution_count": 19,
   "metadata": {},
   "outputs": [
    {
     "name": "stdout",
     "output_type": "stream",
     "text": [
      "Initial average temperature: 59.66948531363336\n"
     ]
    },
    {
     "name": "stderr",
     "output_type": "stream",
     "text": [
      "\u001b[32mProgress: 100%|█████████████████████████████████████████| Time: 0:01:16\u001b[39m\u001b[K\n"
     ]
    },
    {
     "name": "stdout",
     "output_type": "stream",
     "text": [
      "Final average temperature: 59.62877070436581\n",
      " 77.501212 seconds (71.19 k allocations: 1.567 GiB, 0.47% gc time)\n"
     ]
    }
   ],
   "source": [
    "# simulate temperature evolution for nsteps\n",
    "@time simulate_cpu!(curr, prev, nsteps)"
   ]
  },
  {
   "cell_type": "markdown",
   "metadata": {},
   "source": [
    "## GPU (CUDA) Implementation of the Discretized Heat Equation"
   ]
  },
  {
   "cell_type": "code",
   "execution_count": 20,
   "metadata": {},
   "outputs": [
    {
     "data": {
      "text/plain": [
       "calculate_cuda! (generic function with 1 method)"
      ]
     },
     "metadata": {},
     "output_type": "display_data"
    }
   ],
   "source": [
    "function calculate_cuda!(currdata, prevdata, dx2, dy2, nx, ny, a, dt)\n",
    "\n",
    "    i = (blockIdx().x - 1) * blockDim().x + threadIdx().x\n",
    "    j = (blockIdx().y - 1) * blockDim().y + threadIdx().y\n",
    "    if i > 1 && j > 1 && i < nx+2 && j < ny+2\n",
    "        @inbounds xderiv = (prevdata[i-1, j] - 2.0 * prevdata[i, j] + prevdata[i+1, j]) / dx2\n",
    "        @inbounds yderiv = (prevdata[i, j-1] - 2.0 * prevdata[i, j] + prevdata[i, j+1]) / dy2\n",
    "        @inbounds currdata[i, j] = prevdata[i, j] + a * dt * (xderiv + yderiv)\n",
    "    end\n",
    "    \n",
    "    return\n",
    "end\n"
   ]
  },
  {
   "cell_type": "code",
   "execution_count": 21,
   "metadata": {},
   "outputs": [
    {
     "data": {
      "text/plain": [
       "simulate_gpu! (generic function with 1 method)"
      ]
     },
     "metadata": {},
     "output_type": "display_data"
    }
   ],
   "source": [
    "function simulate_gpu!(curr::Field, prev::Field, nsteps)\n",
    "\n",
    "    println(\"Initial average temperature: $(average_temperature(curr))\")\n",
    "\n",
    "    # Diffusion constant\n",
    "    α = 0.5\n",
    "    # Largest stable time step\n",
    "    dt = curr.dx^2 * curr.dy^2 / (2.0 * α * (curr.dx^2 + curr.dy^2))\n",
    "    \n",
    "    # display a nice progress bar\n",
    "    p = Progress(nsteps)\n",
    "\n",
    "    for i = 1:nsteps\n",
    "        # calculate new state based on previous state\n",
    "        \n",
    "        nx, ny = size(curr.data) .- 2   \n",
    "        xthreads = ythreads = 32\n",
    "        xblocks, yblocks = cld(curr.nx, xthreads), cld(curr.ny, ythreads)\n",
    "        @cuda threads=(xthreads, ythreads) blocks = (xblocks, yblocks) calculate_cuda!(curr.data, prev.data, curr.dx^2, curr.dy^2, nx, ny, α, dt)\n",
    "\n",
    "        # swap current and previous fields\n",
    "        swap_fields!(curr, prev)\n",
    "\n",
    "        # increment the progress bar\n",
    "        next!(p)\n",
    "    end \n",
    "\n",
    "    # print final average temperature\n",
    "    println(\"Final average temperature: $(average_temperature(curr))\")\n",
    "end\n"
   ]
  },
  {
   "cell_type": "code",
   "execution_count": 22,
   "metadata": {},
   "outputs": [
    {
     "data": {
      "text/plain": [
       "(Field{CuArray{Float64, 2, CUDA.DeviceMemory}}(10240, 10240, 0.01, 0.01, [85.0 85.0 … 85.0 85.0; 20.0 65.0 … 65.0 70.0; … ; 20.0 65.0 … 65.0 70.0; 5.0 5.0 … 5.0 5.0]), Field{CuArray{Float64, 2, CUDA.DeviceMemory}}(10240, 10240, 0.01, 0.01, [85.0 85.0 … 85.0 85.0; 20.0 65.0 … 65.0 70.0; … ; 20.0 65.0 … 65.0 70.0; 5.0 5.0 … 5.0 5.0]))"
      ]
     },
     "metadata": {},
     "output_type": "display_data"
    }
   ],
   "source": [
    "# initialize data on CPU and move it to GPU\n",
    "curr, prev = initialize(nx, ny, CuArray)"
   ]
  },
  {
   "cell_type": "code",
   "execution_count": 24,
   "metadata": {},
   "outputs": [
    {
     "name": "stdout",
     "output_type": "stream",
     "text": [
      "Initial average temperature: 59.73446871108881\n",
      "Final average temperature: 59.721746641787895\n",
      "  1.249486 seconds (11.52 k allocations: 237.273 KiB)\n"
     ]
    }
   ],
   "source": [
    "# simulate temperature evolution for nsteps\n",
    "@time simulate_gpu!(curr, prev, nsteps)"
   ]
  },
  {
   "cell_type": "markdown",
   "metadata": {},
   "source": [
    "## KernelAbstraction Implementation of the Discretized Heat Equation"
   ]
  },
  {
   "cell_type": "code",
   "execution_count": 27,
   "metadata": {},
   "outputs": [
    {
     "name": "stderr",
     "output_type": "stream",
     "text": [
      "WARNING: using KernelAbstractions.Backend in module Main conflicts with an existing identifier.\n"
     ]
    }
   ],
   "source": [
    "using KernelAbstractions"
   ]
  },
  {
   "cell_type": "code",
   "execution_count": 28,
   "metadata": {},
   "outputs": [
    {
     "data": {
      "text/plain": [
       "CUDABackend(false, false)"
      ]
     },
     "metadata": {},
     "output_type": "display_data"
    }
   ],
   "source": [
    "# add all options for different backends and array types\n",
    "DEV = :NVIDIA\n",
    "\n",
    "if DEV == :NVIDIA\n",
    "    using CUDA\n",
    "    ArrayKA = CUDA.CuArray\n",
    "    Backend = CUDA.CUDABackend()\n",
    "elseif DEV == :AMD\n",
    "    using AMDGPU\n",
    "    ArrayKA = AMDGPU.ROCArrays\n",
    "    Backend = AMDGPU.ROCBackend()\n",
    "elseif DEV == :oneAPI\n",
    "    using oneAPI \n",
    "    ArrayKA = oneAPI.oneArray\n",
    "    Backend = oneAPI.oneAPIBackend()\n",
    "elseif DEV == :Metal\n",
    "    using Metal \n",
    "    ArrayKA = Metal.MetalArray\n",
    "    Backend = Metal.MetalBackend()\n",
    "else DEV == :CPU\n",
    "    ArrayKA = Array\n",
    "    Backend = CPU()\n",
    "end"
   ]
  },
  {
   "cell_type": "code",
   "execution_count": 29,
   "metadata": {},
   "outputs": [
    {
     "data": {
      "text/plain": [
       "calculate_kernel! (generic function with 4 methods)"
      ]
     },
     "metadata": {},
     "output_type": "display_data"
    }
   ],
   "source": [
    "@kernel function calculate_kernel!(currdata, prevdata, dx2, dy2, nx, ny, a, dt)\n",
    "\n",
    "    i, j = @index(Global, NTuple)\n",
    "    \n",
    "    if i > 1 && j > 1 && i < nx+2 && j < ny+2\n",
    "        @inbounds xderiv = (prevdata[i-1, j] - 2.0 * prevdata[i, j] + prevdata[i+1, j]) / dx2\n",
    "        @inbounds yderiv = (prevdata[i, j-1] - 2.0 * prevdata[i, j] + prevdata[i, j+1]) / dy2\n",
    "        @inbounds currdata[i, j] = prevdata[i, j] + a * dt * (xderiv + yderiv)\n",
    "    end\n",
    "    \n",
    "end"
   ]
  },
  {
   "cell_type": "code",
   "execution_count": 30,
   "metadata": {},
   "outputs": [
    {
     "data": {
      "text/plain": [
       "simulate_KA! (generic function with 1 method)"
      ]
     },
     "metadata": {},
     "output_type": "display_data"
    }
   ],
   "source": [
    "function simulate_KA!(curr::Field, prev::Field, nsteps)\n",
    "\n",
    "    println(\"Initial average temperature: $(average_temperature(curr))\")\n",
    "\n",
    "    # Diffusion constant\n",
    "    α = 1.0    \n",
    "    # Largest stable time step\n",
    "    dt = curr.dx^2 * curr.dy^2 / (2.0 * α * (curr.dx^2 + curr.dy^2))\n",
    "    \n",
    "    # display a nice progress bar\n",
    "    p = Progress(nsteps)\n",
    "\n",
    "    for i = 1:nsteps\n",
    "        # calculate new state based on previous state\n",
    "        \n",
    "        nx, ny = size(curr.data) .- 2  \n",
    "\n",
    "        workgroupsize = (32, 32)\n",
    "        kernel! = calculate_kernel!(Backend, workgroupsize)\n",
    "        kernel!(curr.data, prev.data, curr.dx^2, curr.dy^2, nx, ny, α, dt, ndrange=(nx, ny))\n",
    "        KernelAbstractions.synchronize(Backend)\n",
    "\n",
    "        # swap current and previous fields\n",
    "        swap_fields!(curr, prev)\n",
    "\n",
    "        # increment the progress bar\n",
    "        next!(p)\n",
    "    end \n",
    "\n",
    "    # print final average temperature\n",
    "    println(\"Final average temperature: $(average_temperature(curr))\")\n",
    "end\n"
   ]
  },
  {
   "cell_type": "code",
   "execution_count": 31,
   "metadata": {},
   "outputs": [
    {
     "data": {
      "text/plain": [
       "(Field{CuArray{Float64, 2, CUDA.DeviceMemory}}(10240, 10240, 0.01, 0.01, [85.0 85.0 … 85.0 85.0; 20.0 65.0 … 65.0 70.0; … ; 20.0 65.0 … 65.0 70.0; 5.0 5.0 … 5.0 5.0]), Field{CuArray{Float64, 2, CUDA.DeviceMemory}}(10240, 10240, 0.01, 0.01, [85.0 85.0 … 85.0 85.0; 20.0 65.0 … 65.0 70.0; … ; 20.0 65.0 … 65.0 70.0; 5.0 5.0 … 5.0 5.0]))"
      ]
     },
     "metadata": {},
     "output_type": "display_data"
    }
   ],
   "source": [
    "# initialize data on CPU and move it to GPU\n",
    "curr, prev = initialize(nx, ny, ArrayKA)"
   ]
  },
  {
   "cell_type": "code",
   "execution_count": 33,
   "metadata": {},
   "outputs": [
    {
     "name": "stdout",
     "output_type": "stream",
     "text": [
      "Initial average temperature: 59.73446871108881\n"
     ]
    },
    {
     "name": "stderr",
     "output_type": "stream",
     "text": [
      "\u001b[32mProgress: 100%|█████████████████████████████████████████| Time: 0:00:01\u001b[39m\u001b[K\n"
     ]
    },
    {
     "name": "stdout",
     "output_type": "stream",
     "text": [
      "Final average temperature: 59.721746641787895\n",
      "  1.521956 seconds (39.42 k allocations: 1.150 MiB, 1 lock conflict)\n"
     ]
    }
   ],
   "source": [
    "# simulate temperature evolution for nsteps\n",
    "@time simulate_KA!(curr, prev, nsteps)"
   ]
  }
 ],
 "metadata": {
  "kernelspec": {
   "display_name": "Julia 1.11.1",
   "language": "julia",
   "name": "julia-1.11"
  },
  "language_info": {
   "file_extension": ".jl",
   "mimetype": "application/julia",
   "name": "julia",
   "version": "1.11.1"
  }
 },
 "nbformat": 4,
 "nbformat_minor": 4
}
